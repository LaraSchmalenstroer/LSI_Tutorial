{
 "cells": [
  {
   "cell_type": "markdown",
   "metadata": {},
   "source": [
    "# Homework 2\n",
    "## Lara Schmalenstroer\n",
    "### 03.11.2020"
   ]
  },
  {
   "cell_type": "markdown",
   "metadata": {},
   "source": [
    "#### 1. Write a function that calculates the number of bases of a given gene"
   ]
  },
  {
   "cell_type": "code",
   "execution_count": 7,
   "metadata": {},
   "outputs": [],
   "source": [
    "def base_count(gene):\n",
    "    count_A=gene.count('A')\n",
    "    count_C=gene.count('C')\n",
    "    count_G=gene.count('G')\n",
    "    count_T=gene.count('T')\n",
    "    result={'A':count_A,'C':count_C,'G':count_G,'T':count_T}\n",
    "    return result\n",
    "\n",
    "def exon_count(gene):\n",
    "    count_exon=gene.count('exon')\n",
    "    count_intron=gene.count('intron')\n",
    "    count_cds=gene.count('cds')\n",
    "    result={'Exon':count_exon,'Intron':count_intron,'Cds':count_cds}\n",
    "    return result"
   ]
  },
  {
   "cell_type": "markdown",
   "metadata": {},
   "source": [
    "#### 2. Import of the file \"CYCS_dog.txt"
   ]
  },
  {
   "cell_type": "code",
   "execution_count": 1,
   "metadata": {},
   "outputs": [
    {
     "name": "stdout",
     "output_type": "stream",
     "text": [
      ">ENSCAFG00000002856:ENSCAFT00000004569.3 cds:protein_coding\n",
      "ATGGGTGATGTTGAGAAGGGCAAGAAGATTTTTGTTCAGAAGTGTGCGCAGTGCCATACT\n",
      "GTGGAAAAGGGAGGCAAGCACAAGACTGGGCCAAACCTCCACGGTTTATTTGGGCGGAAG\n",
      "ACCGGTCAGGCCCCTGGATTTTCTTACACGGATGCCAACAAGAACAAAGGCATCACCTGG\n",
      "GGAGAGGAGACCCTGATGGAGTATTTGGAGAATCCCAAGAAGTACATCCCTGGAACAAAA\n",
      "ATGATCTTCGCTGGCATTAAGAAGACAGGGGAAAGAGCAGACTTAATAGCTTATCTCAAA\n",
      "AAAGCTACTAAGGAGTAA\n",
      "\n",
      ">ENSCAFG00000002856:ENSCAFT00000004569.3 ENSCAFE00000296668 exon:protein_coding\n",
      "GACGGATCGAGTTCGGTTGCACCGACACCGGTACTTAGGTGCGGAGCGGCGTGTCCTTGG\n",
      "ACTTAGAGAGCGGGACGTCCGGCTTGCGAGCGGGCTTCTTCGTTTCGCGCGCGCGACAGA\n",
      "AAGGCG\n",
      "\n",
      ">ENSCAFG00000002856:ENSCAFT00000004569.3 ENSCAFE00000031066 exon:protein_coding\n",
      "ATTGAAAAATGGGTGATGTTGAGAAGGGCAAGAAGATTTTTGTTCAGAAGTGTGCGCAGT\n",
      "GCCATACTGTGGAAAAGGGAGGCAAGCACAAGACTGGGCCAAACCTCCACGGTTTATTTG\n",
      "GGCGGAAGACCGGTCAGGCCCCTGGATTTTCTTACACGGATGCCAACAAGAACAAAG\n",
      "\n",
      "\n",
      ">ENSCAFG00000002856:ENSCAFT00000004569.3 ENSCAFE00000031069 exon:protein_coding\n",
      "GCATCACCTGGGGAGAGGAGACCCTGATGGAGTATTTGGAGAATCCCAAGAAGTACATCC\n",
      "CTGGAACAAAAATGATCTTCGCTGGCATTAAGAAGACAGGGGAAAGAGCAGACTTAATAG\n",
      "CTTATCTCAAAAAAGCTACTAAGGAGTAATAGTTGGCTATCGCCTTATTTATTACAAAAC\n",
      "AAAAATGTCTCATGACTTTTTTTTATGTGTACCATATTTAAATTGATCTCATTGACCAGA\n",
      "ATTCAGATCATGAGTGGCTGATAGAAGGTTTCTCTTGGACAGTCCTGATTTAAATAAGAT\n",
      "TGGCTTGTGGTTAAATGAATATGATCAGTTTTTTGAACTTTGATAGTAATTCTGGTTCAG\n",
      "CAAGTGCTCTCACTGTTTTCCCCTTCTAAAAAATATGATTGGAATTGATTAGAGATGTGT\n",
      "AGCTTTTCACAGAGATGGTAAATGCCACCTCTAAATTTATAGATTGGTTTTATATTTAGA\n",
      "TTTATATAACGGGTTATATTAATATATTTAAATACTGAGGAAATCCCTTCACTCTCAGAA\n",
      "CAGCAAGACTCAGCTGTGTTTCAAGTTGTGTTCCCTAGCCTGTTAAAGGCAATGGCTGAA\n",
      "GATAAGCTGGCAGTGTCCACTTTATCTTTTTGGTCTTAACTATGCCAATTTAATTAAAAT\n",
      "TCTTTGCATCTAAAATGTTGCCTTTTGCTAATTGAAAGGCATTTTAGTGTGGTTTGTGCG\n",
      "TAATATTAAAATTTTAACACTTGGGTTTTATACACCTGTAAGGTCAGACGCTTTTAAAAT\n",
      "TTAGTGTGAGGAGATACAGCAGCAGACTTGGCTTGTGAATTCTTGACTAAGACTACGTTA\n",
      "TTATTCAGGATTGTCTTCTAAACAGCTATTCAGTGACACAAATGTGGAATTAACCATGTA\n",
      "TGTATGATTGGTAATGGTGCTTTTGCCAACTCCTTAGAAAGGTTAAAATAGAGGAGATCC\n",
      "GTCATCAGCACAAATTTGTACATTATGTGATAAGGTTTAAGATAATTAAAAACAAAGTCA\n",
      "CAGATCA\n",
      ">ENSCAFG00000002856:ENSCAFT00000004569.3 intron 1:protein_coding\n",
      "GTGAGCGCCGGGCGGGAAGCCGCAGCACGGGGACGCGCGGCTGTGTCGAGGGGTGCGCGC\n",
      "CCTGGCCGAGGCCGGCGCCCGGGTTCGGCGAGTGGGGCGCACCTGGGGCGGGAAGGCCAG\n",
      "GGGTGACCCCCCCCCCCACCCCGCCTGGGGCCGGCCAGAAGCCGGTGGGCTACGGCTGGA\n",
      "GACGGGGCGGCACGCCGGCTGGGACGGGGAGTGGGCTCGATCAGGGCCCTTAAAGCCCGG\n",
      "AAGCCGCCTGGATGCTGATCCAACCCAGACCGAGGCCCGGGGGTCTCGTAGCCGGGGCCC\n",
      "AGGGGCTGTGGAAGTGACAGACTTCCCGGGATGAGGGCGGGAATGTGGGGGGCTGCGCAG\n",
      "CGCCCCACGGCCTCCTGCAGAGGCGGCCGGAACTACCGCTCCTGCAAAAACGAGCCCTTT\n",
      "TTCTTCCGAGTCACTTGTCGCTTTTCCCCCCTTAACCTGCCTAGGCATCTCGGGAAGGCA\n",
      "GGTGCCCTCCGTCTCCTTGAAAGCCTGATTGGGTGACCTCGTGGGCGTCTCCAGAGAGCC\n",
      "CAGAGCTGGAGGACGGACGGATGGGAGACCTCCCACCCGCACCGCAGGGCCGTTTATACC\n",
      "GGCCCGAGCAGGCTGTTAGCAACCACAGGACTTGGGTTTTGTAAATGTATTTTGACTGAT\n",
      "CAGAGGTGGCTTCACATTGCAGTCTGATTAAATAGGCTTTCTTAAAAGCTGAAAGTTTTG\n",
      "GTAGTTTGGTAGTTTTGGTTTAATGTAATCATGGTTTTCGACTTGACTCAGATTTGTGAC\n",
      "TTTCTGTGACCTTGACCTCAAACTTTTGAAACCGTTTTTGAACTAGGTTCCCACTTTGCT\n",
      "TACTTGGGCTTTAGTTCTATCACTCGAATACACATAGATGTGTATTTAGGGAAGTCGTTC\n",
      "CAGCTAGTGGTTTTTGGTACCTAGAGAGCCAGTCGCCAGCACACTAAGTAAAACCAGATT\n",
      "CGCCCTGGTGATTAATACTCTAGATTTGCAATGGGTTAGTAATTCAGTCCCTGGAGCGAC\n",
      "CACTGGTTGGTTTTCACTGGATTTTTACTCGGAGGAAAAAAGTAATGGAGTCTTTCATTT\n",
      "TTAG\n",
      ">ENSCAFG00000002856:ENSCAFT00000004569.3 intron 2:protein_coding\n",
      "GTAAGGGTCTGGGAGGTGGGGGATCAGTTATTAAATAACAGAAGCACAATTTCATGAATA\n",
      "TAACCAATGGTAAGCCCTTTATCAGGAGTGTAAGATACTTAACAATACGTCCCTCCTTGT\n",
      "TTAG\n",
      "\n",
      "\n"
     ]
    }
   ],
   "source": [
    "with open('C:/Users/CYCS_dog.txt','r') as file:\n",
    "    cytc_dog=file.read()\n",
    "print(cytc_dog)"
   ]
  },
  {
   "cell_type": "markdown",
   "metadata": {},
   "source": [
    "#### 3. The '>' sign at the beginning of each line is used to split the strings."
   ]
  },
  {
   "cell_type": "code",
   "execution_count": 4,
   "metadata": {},
   "outputs": [
    {
     "name": "stdout",
     "output_type": "stream",
     "text": [
      "['ENSCAFG00000002856:ENSCAFT00000004569.3 cds:protein_coding\\nATGGGTGATGTTGAGAAGGGCAAGAAGATTTTTGTTCAGAAGTGTGCGCAGTGCCATACT\\nGTGGAAAAGGGAGGCAAGCACAAGACTGGGCCAAACCTCCACGGTTTATTTGGGCGGAAG\\nACCGGTCAGGCCCCTGGATTTTCTTACACGGATGCCAACAAGAACAAAGGCATCACCTGG\\nGGAGAGGAGACCCTGATGGAGTATTTGGAGAATCCCAAGAAGTACATCCCTGGAACAAAA\\nATGATCTTCGCTGGCATTAAGAAGACAGGGGAAAGAGCAGACTTAATAGCTTATCTCAAA\\nAAAGCTACTAAGGAGTAA\\n\\n', 'ENSCAFG00000002856:ENSCAFT00000004569.3 ENSCAFE00000296668 exon:protein_coding\\nGACGGATCGAGTTCGGTTGCACCGACACCGGTACTTAGGTGCGGAGCGGCGTGTCCTTGG\\nACTTAGAGAGCGGGACGTCCGGCTTGCGAGCGGGCTTCTTCGTTTCGCGCGCGCGACAGA\\nAAGGCG\\n\\n', 'ENSCAFG00000002856:ENSCAFT00000004569.3 ENSCAFE00000031066 exon:protein_coding\\nATTGAAAAATGGGTGATGTTGAGAAGGGCAAGAAGATTTTTGTTCAGAAGTGTGCGCAGT\\nGCCATACTGTGGAAAAGGGAGGCAAGCACAAGACTGGGCCAAACCTCCACGGTTTATTTG\\nGGCGGAAGACCGGTCAGGCCCCTGGATTTTCTTACACGGATGCCAACAAGAACAAAG\\n\\n\\n', 'ENSCAFG00000002856:ENSCAFT00000004569.3 ENSCAFE00000031069 exon:protein_coding\\nGCATCACCTGGGGAGAGGAGACCCTGATGGAGTATTTGGAGAATCCCAAGAAGTACATCC\\nCTGGAACAAAAATGATCTTCGCTGGCATTAAGAAGACAGGGGAAAGAGCAGACTTAATAG\\nCTTATCTCAAAAAAGCTACTAAGGAGTAATAGTTGGCTATCGCCTTATTTATTACAAAAC\\nAAAAATGTCTCATGACTTTTTTTTATGTGTACCATATTTAAATTGATCTCATTGACCAGA\\nATTCAGATCATGAGTGGCTGATAGAAGGTTTCTCTTGGACAGTCCTGATTTAAATAAGAT\\nTGGCTTGTGGTTAAATGAATATGATCAGTTTTTTGAACTTTGATAGTAATTCTGGTTCAG\\nCAAGTGCTCTCACTGTTTTCCCCTTCTAAAAAATATGATTGGAATTGATTAGAGATGTGT\\nAGCTTTTCACAGAGATGGTAAATGCCACCTCTAAATTTATAGATTGGTTTTATATTTAGA\\nTTTATATAACGGGTTATATTAATATATTTAAATACTGAGGAAATCCCTTCACTCTCAGAA\\nCAGCAAGACTCAGCTGTGTTTCAAGTTGTGTTCCCTAGCCTGTTAAAGGCAATGGCTGAA\\nGATAAGCTGGCAGTGTCCACTTTATCTTTTTGGTCTTAACTATGCCAATTTAATTAAAAT\\nTCTTTGCATCTAAAATGTTGCCTTTTGCTAATTGAAAGGCATTTTAGTGTGGTTTGTGCG\\nTAATATTAAAATTTTAACACTTGGGTTTTATACACCTGTAAGGTCAGACGCTTTTAAAAT\\nTTAGTGTGAGGAGATACAGCAGCAGACTTGGCTTGTGAATTCTTGACTAAGACTACGTTA\\nTTATTCAGGATTGTCTTCTAAACAGCTATTCAGTGACACAAATGTGGAATTAACCATGTA\\nTGTATGATTGGTAATGGTGCTTTTGCCAACTCCTTAGAAAGGTTAAAATAGAGGAGATCC\\nGTCATCAGCACAAATTTGTACATTATGTGATAAGGTTTAAGATAATTAAAAACAAAGTCA\\nCAGATCA\\n', 'ENSCAFG00000002856:ENSCAFT00000004569.3 intron 1:protein_coding\\nGTGAGCGCCGGGCGGGAAGCCGCAGCACGGGGACGCGCGGCTGTGTCGAGGGGTGCGCGC\\nCCTGGCCGAGGCCGGCGCCCGGGTTCGGCGAGTGGGGCGCACCTGGGGCGGGAAGGCCAG\\nGGGTGACCCCCCCCCCCACCCCGCCTGGGGCCGGCCAGAAGCCGGTGGGCTACGGCTGGA\\nGACGGGGCGGCACGCCGGCTGGGACGGGGAGTGGGCTCGATCAGGGCCCTTAAAGCCCGG\\nAAGCCGCCTGGATGCTGATCCAACCCAGACCGAGGCCCGGGGGTCTCGTAGCCGGGGCCC\\nAGGGGCTGTGGAAGTGACAGACTTCCCGGGATGAGGGCGGGAATGTGGGGGGCTGCGCAG\\nCGCCCCACGGCCTCCTGCAGAGGCGGCCGGAACTACCGCTCCTGCAAAAACGAGCCCTTT\\nTTCTTCCGAGTCACTTGTCGCTTTTCCCCCCTTAACCTGCCTAGGCATCTCGGGAAGGCA\\nGGTGCCCTCCGTCTCCTTGAAAGCCTGATTGGGTGACCTCGTGGGCGTCTCCAGAGAGCC\\nCAGAGCTGGAGGACGGACGGATGGGAGACCTCCCACCCGCACCGCAGGGCCGTTTATACC\\nGGCCCGAGCAGGCTGTTAGCAACCACAGGACTTGGGTTTTGTAAATGTATTTTGACTGAT\\nCAGAGGTGGCTTCACATTGCAGTCTGATTAAATAGGCTTTCTTAAAAGCTGAAAGTTTTG\\nGTAGTTTGGTAGTTTTGGTTTAATGTAATCATGGTTTTCGACTTGACTCAGATTTGTGAC\\nTTTCTGTGACCTTGACCTCAAACTTTTGAAACCGTTTTTGAACTAGGTTCCCACTTTGCT\\nTACTTGGGCTTTAGTTCTATCACTCGAATACACATAGATGTGTATTTAGGGAAGTCGTTC\\nCAGCTAGTGGTTTTTGGTACCTAGAGAGCCAGTCGCCAGCACACTAAGTAAAACCAGATT\\nCGCCCTGGTGATTAATACTCTAGATTTGCAATGGGTTAGTAATTCAGTCCCTGGAGCGAC\\nCACTGGTTGGTTTTCACTGGATTTTTACTCGGAGGAAAAAAGTAATGGAGTCTTTCATTT\\nTTAG\\n', 'ENSCAFG00000002856:ENSCAFT00000004569.3 intron 2:protein_coding\\nGTAAGGGTCTGGGAGGTGGGGGATCAGTTATTAAATAACAGAAGCACAATTTCATGAATA\\nTAACCAATGGTAAGCCCTTTATCAGGAGTGTAAGATACTTAACAATACGTCCCTCCTTGT\\nTTAG\\n\\n']\n"
     ]
    }
   ],
   "source": [
    "cytc_dog2=cytc_dog.split('>')[1:]\n",
    "print(cytc_dog2)"
   ]
  },
  {
   "cell_type": "markdown",
   "metadata": {},
   "source": [
    "#### 4. Determine the number of exons, introns and cds regions it has. "
   ]
  },
  {
   "cell_type": "code",
   "execution_count": null,
   "metadata": {},
   "outputs": [],
   "source": []
  },
  {
   "cell_type": "markdown",
   "metadata": {},
   "source": [
    "#### 5. An empty list (new[]) is created and the strings are splitted again at the word 'coding' which occurs in every header. The information about the kind of sequence (cds, intron or exon) remains in the string.\n"
   ]
  },
  {
   "cell_type": "code",
   "execution_count": 56,
   "metadata": {},
   "outputs": [
    {
     "name": "stdout",
     "output_type": "stream",
     "text": [
      "[['ENSCAFG00000002856:ENSCAFT00000004569.3 cds:protein_', '\\nATGGGTGATGTTGAGAAGGGCAAGAAGATTTTTGTTCAGAAGTGTGCGCAGTGCCATACT\\nGTGGAAAAGGGAGGCAAGCACAAGACTGGGCCAAACCTCCACGGTTTATTTGGGCGGAAG\\nACCGGTCAGGCCCCTGGATTTTCTTACACGGATGCCAACAAGAACAAAGGCATCACCTGG\\nGGAGAGGAGACCCTGATGGAGTATTTGGAGAATCCCAAGAAGTACATCCCTGGAACAAAA\\nATGATCTTCGCTGGCATTAAGAAGACAGGGGAAAGAGCAGACTTAATAGCTTATCTCAAA\\nAAAGCTACTAAGGAGTAA\\n\\n'], ['ENSCAFG00000002856:ENSCAFT00000004569.3 ENSCAFE00000296668 exon:protein_', '\\nGACGGATCGAGTTCGGTTGCACCGACACCGGTACTTAGGTGCGGAGCGGCGTGTCCTTGG\\nACTTAGAGAGCGGGACGTCCGGCTTGCGAGCGGGCTTCTTCGTTTCGCGCGCGCGACAGA\\nAAGGCG\\n\\n'], ['ENSCAFG00000002856:ENSCAFT00000004569.3 ENSCAFE00000031066 exon:protein_', '\\nATTGAAAAATGGGTGATGTTGAGAAGGGCAAGAAGATTTTTGTTCAGAAGTGTGCGCAGT\\nGCCATACTGTGGAAAAGGGAGGCAAGCACAAGACTGGGCCAAACCTCCACGGTTTATTTG\\nGGCGGAAGACCGGTCAGGCCCCTGGATTTTCTTACACGGATGCCAACAAGAACAAAG\\n\\n\\n'], ['ENSCAFG00000002856:ENSCAFT00000004569.3 ENSCAFE00000031069 exon:protein_', '\\nGCATCACCTGGGGAGAGGAGACCCTGATGGAGTATTTGGAGAATCCCAAGAAGTACATCC\\nCTGGAACAAAAATGATCTTCGCTGGCATTAAGAAGACAGGGGAAAGAGCAGACTTAATAG\\nCTTATCTCAAAAAAGCTACTAAGGAGTAATAGTTGGCTATCGCCTTATTTATTACAAAAC\\nAAAAATGTCTCATGACTTTTTTTTATGTGTACCATATTTAAATTGATCTCATTGACCAGA\\nATTCAGATCATGAGTGGCTGATAGAAGGTTTCTCTTGGACAGTCCTGATTTAAATAAGAT\\nTGGCTTGTGGTTAAATGAATATGATCAGTTTTTTGAACTTTGATAGTAATTCTGGTTCAG\\nCAAGTGCTCTCACTGTTTTCCCCTTCTAAAAAATATGATTGGAATTGATTAGAGATGTGT\\nAGCTTTTCACAGAGATGGTAAATGCCACCTCTAAATTTATAGATTGGTTTTATATTTAGA\\nTTTATATAACGGGTTATATTAATATATTTAAATACTGAGGAAATCCCTTCACTCTCAGAA\\nCAGCAAGACTCAGCTGTGTTTCAAGTTGTGTTCCCTAGCCTGTTAAAGGCAATGGCTGAA\\nGATAAGCTGGCAGTGTCCACTTTATCTTTTTGGTCTTAACTATGCCAATTTAATTAAAAT\\nTCTTTGCATCTAAAATGTTGCCTTTTGCTAATTGAAAGGCATTTTAGTGTGGTTTGTGCG\\nTAATATTAAAATTTTAACACTTGGGTTTTATACACCTGTAAGGTCAGACGCTTTTAAAAT\\nTTAGTGTGAGGAGATACAGCAGCAGACTTGGCTTGTGAATTCTTGACTAAGACTACGTTA\\nTTATTCAGGATTGTCTTCTAAACAGCTATTCAGTGACACAAATGTGGAATTAACCATGTA\\nTGTATGATTGGTAATGGTGCTTTTGCCAACTCCTTAGAAAGGTTAAAATAGAGGAGATCC\\nGTCATCAGCACAAATTTGTACATTATGTGATAAGGTTTAAGATAATTAAAAACAAAGTCA\\nCAGATCA\\n'], ['ENSCAFG00000002856:ENSCAFT00000004569.3 intron 1:protein_', '\\nGTGAGCGCCGGGCGGGAAGCCGCAGCACGGGGACGCGCGGCTGTGTCGAGGGGTGCGCGC\\nCCTGGCCGAGGCCGGCGCCCGGGTTCGGCGAGTGGGGCGCACCTGGGGCGGGAAGGCCAG\\nGGGTGACCCCCCCCCCCACCCCGCCTGGGGCCGGCCAGAAGCCGGTGGGCTACGGCTGGA\\nGACGGGGCGGCACGCCGGCTGGGACGGGGAGTGGGCTCGATCAGGGCCCTTAAAGCCCGG\\nAAGCCGCCTGGATGCTGATCCAACCCAGACCGAGGCCCGGGGGTCTCGTAGCCGGGGCCC\\nAGGGGCTGTGGAAGTGACAGACTTCCCGGGATGAGGGCGGGAATGTGGGGGGCTGCGCAG\\nCGCCCCACGGCCTCCTGCAGAGGCGGCCGGAACTACCGCTCCTGCAAAAACGAGCCCTTT\\nTTCTTCCGAGTCACTTGTCGCTTTTCCCCCCTTAACCTGCCTAGGCATCTCGGGAAGGCA\\nGGTGCCCTCCGTCTCCTTGAAAGCCTGATTGGGTGACCTCGTGGGCGTCTCCAGAGAGCC\\nCAGAGCTGGAGGACGGACGGATGGGAGACCTCCCACCCGCACCGCAGGGCCGTTTATACC\\nGGCCCGAGCAGGCTGTTAGCAACCACAGGACTTGGGTTTTGTAAATGTATTTTGACTGAT\\nCAGAGGTGGCTTCACATTGCAGTCTGATTAAATAGGCTTTCTTAAAAGCTGAAAGTTTTG\\nGTAGTTTGGTAGTTTTGGTTTAATGTAATCATGGTTTTCGACTTGACTCAGATTTGTGAC\\nTTTCTGTGACCTTGACCTCAAACTTTTGAAACCGTTTTTGAACTAGGTTCCCACTTTGCT\\nTACTTGGGCTTTAGTTCTATCACTCGAATACACATAGATGTGTATTTAGGGAAGTCGTTC\\nCAGCTAGTGGTTTTTGGTACCTAGAGAGCCAGTCGCCAGCACACTAAGTAAAACCAGATT\\nCGCCCTGGTGATTAATACTCTAGATTTGCAATGGGTTAGTAATTCAGTCCCTGGAGCGAC\\nCACTGGTTGGTTTTCACTGGATTTTTACTCGGAGGAAAAAAGTAATGGAGTCTTTCATTT\\nTTAG\\n'], ['ENSCAFG00000002856:ENSCAFT00000004569.3 intron 2:protein_', '\\nGTAAGGGTCTGGGAGGTGGGGGATCAGTTATTAAATAACAGAAGCACAATTTCATGAATA\\nTAACCAATGGTAAGCCCTTTATCAGGAGTGTAAGATACTTAACAATACGTCCCTCCTTGT\\nTTAG\\n\\n']]\n"
     ]
    }
   ],
   "source": [
    "new_cyt=[]\n",
    "for i in range(len(cytc_dog2)):\n",
    "    new_cyt.append(cytc_dog2[i].split('coding'))\n",
    "\n",
    "#each element of the list cytc_dog2 is splitted at the end of the header which is the word 'coding'\n",
    "    \n",
    "print(new_cyt) \n",
    "#the new list contains 6 lists of a sequence and its header"
   ]
  },
  {
   "cell_type": "markdown",
   "metadata": {},
   "source": [
    "#### 6. The headers and the sequences are written into separate lists. The headers are replaced by the kind of sequence (cds, exon or intron) and the index of that kind of sequence."
   ]
  },
  {
   "cell_type": "code",
   "execution_count": 57,
   "metadata": {},
   "outputs": [
    {
     "name": "stdout",
     "output_type": "stream",
     "text": [
      "['cds1', 'exon1', 'exon2', 'exon3', 'intron1', 'intron2']\n"
     ]
    }
   ],
   "source": [
    "exon=0\n",
    "cds=0\n",
    "intron=0\n",
    "list_header=[]\n",
    "list_gene=[]\n",
    "\n",
    "for i in range(len(new_cyt)):\n",
    "    if 'exon' in new_cyt[i][0]:\n",
    "        exon+=1\n",
    "        list_header.append('exon'+str(exon))\n",
    "        list_gene.append(new_cyt[i][1])\n",
    "    elif 'cds' in new_cyt[i][0]:\n",
    "        cds+=1\n",
    "        list_header.append('cds'+str(cds))\n",
    "        list_gene.append(new_cyt[i][1])\n",
    "    elif 'intron' in new_cyt[i][0]:\n",
    "        intron+=1\n",
    "        list_header.append('intron'+str(intron))\n",
    "        list_gene.append(new_cyt[i][1])\n",
    "print(list_header)\n",
    "\n",
    "#the loop checks whether the sequence is an exon, intron or cds and appends the keyword and its index to a list (list_header)\n",
    "#the corresponding sequence is appended to a list of genes"
   ]
  },
  {
   "cell_type": "markdown",
   "metadata": {},
   "source": [
    "#### 7. The lists for the headers and the sequences are zipped to a dictionary. "
   ]
  },
  {
   "cell_type": "code",
   "execution_count": 58,
   "metadata": {},
   "outputs": [],
   "source": [
    "dict_genes = dict(zip(list_header,list_gene))"
   ]
  },
  {
   "cell_type": "markdown",
   "metadata": {},
   "source": [
    "#### 8. Determine the length of each exon and intron."
   ]
  },
  {
   "cell_type": "code",
   "execution_count": 59,
   "metadata": {},
   "outputs": [
    {
     "name": "stdout",
     "output_type": "stream",
     "text": [
      "cds1 has a length of 326 bases\n",
      "exon1 has a length of 131 bases\n",
      "exon2 has a length of 183 bases\n",
      "exon3 has a length of 1046 bases\n",
      "intron1 has a length of 1104 bases\n",
      "intron2 has a length of 129 bases\n"
     ]
    }
   ],
   "source": [
    "lengths_sep=[]\n",
    "for key in dict_genes:\n",
    "    lengths_sep.append(len(dict_genes[key]))\n",
    "    print(key, 'has a length of',len(dict_genes[key]),'bases')\n",
    "\n",
    "dict_lengths_sep=dict(zip(list_header,lengths_sep))"
   ]
  },
  {
   "cell_type": "markdown",
   "metadata": {},
   "source": [
    "#### 9. Count the nucleic bases A, C. T G for the entire gene and each intron and exon separately.\n",
    "##### a) Calculation of the composition of each exon/intron/cds and then building the sum out of these values."
   ]
  },
  {
   "cell_type": "code",
   "execution_count": 12,
   "metadata": {},
   "outputs": [
    {
     "name": "stdout",
     "output_type": "stream",
     "text": [
      "cds1 : {'A': 104, 'C': 60, 'G': 90, 'T': 64}\n",
      "exon1 : {'A': 20, 'C': 33, 'G': 48, 'T': 25}\n",
      "exon2 : {'A': 54, 'C': 33, 'G': 53, 'T': 37}\n",
      "exon3 : {'A': 323, 'C': 157, 'G': 202, 'T': 345}\n",
      "intron1 : {'A': 210, 'C': 282, 'G': 340, 'T': 252}\n",
      "intron2 : {'A': 40, 'C': 20, 'G': 29, 'T': 35}\n"
     ]
    }
   ],
   "source": [
    "overview=[]\n",
    "for key in dict_genes:\n",
    "    comp=base_count(dict_genes[key])\n",
    "    overview.append((key,comp))\n",
    "    print(key,':',comp)"
   ]
  },
  {
   "cell_type": "code",
   "execution_count": 51,
   "metadata": {},
   "outputs": [
    {
     "name": "stdout",
     "output_type": "stream",
     "text": [
      "{'A': 751, 'C': 585, 'G': 762, 'T': 758}\n"
     ]
    }
   ],
   "source": [
    "adenine=0\n",
    "cytosine=0\n",
    "guanine=0\n",
    "thymine=0\n",
    "for i in range(len(overview)):\n",
    "    for key in overview[i][1]:\n",
    "        if key=='A':\n",
    "            adenine+=overview[i][1][key]\n",
    "        elif key=='C':\n",
    "            cytosine+=overview[i][1][key]\n",
    "        elif key=='G':\n",
    "            guanine+=overview[i][1][key]\n",
    "        elif key=='T':\n",
    "            thymine+=overview[i][1][key]\n",
    "comp_com={'A':adenine,'C':cytosine,'G':guanine,'T':thymine}\n",
    "length_com=adenine+cytosine+guanine+thymine\n",
    "\n",
    "print(comp_com)\n",
    "#the overall composition is calculated by using a nested for-loop.\n",
    "#the first loop loops over all elements of the list overview.\n",
    "#In each of the elements, the second element (the dictionary with the base composition) is accessed \n",
    "#the second for loop loops over all keys in the given dictionary. The numbers of each nucleotide are summed."
   ]
  },
  {
   "cell_type": "markdown",
   "metadata": {},
   "source": [
    "##### b) Calculation of the composition of the whole gene. "
   ]
  },
  {
   "cell_type": "code",
   "execution_count": 15,
   "metadata": {},
   "outputs": [
    {
     "name": "stdout",
     "output_type": "stream",
     "text": [
      "{'A': 751, 'C': 585, 'G': 762, 'T': 758}\n"
     ]
    }
   ],
   "source": [
    "whole_gene=list_gene[0]+list_gene[1]+list_gene[2]+list_gene[3]+list_gene[4]+list_gene[5]\n",
    "composition_gene = base_count(whole_gene)\n",
    "print(composition_gene)"
   ]
  },
  {
   "cell_type": "markdown",
   "metadata": {},
   "source": [
    "#### 10. Calculate the CG ratio of each intron and exon and of the entire gene.\n",
    "##### a) Calculation of the GC ratio for each exon/intron/cds."
   ]
  },
  {
   "cell_type": "code",
   "execution_count": 48,
   "metadata": {},
   "outputs": [
    {
     "name": "stdout",
     "output_type": "stream",
     "text": [
      "{'cds1': 46.01, 'exon1': 61.83, 'exon2': 46.99, 'exon3': 34.32, 'intron1': 56.34, 'intron2': 37.98}\n"
     ]
    }
   ],
   "source": [
    "gc =[]\n",
    "\n",
    "for i in range(len(overview)):\n",
    "    key=overview[i][0]\n",
    "    gc_ratio=round(((overview[i][1]['G']+overview[i][1]['C'])/dict_lengths[key])*100,2)\n",
    "    gc.append(gc_ratio)\n",
    "\n",
    "dict_gc_sep=dict(zip(list_header,gc))\n",
    "print(dict_gc_sep)"
   ]
  },
  {
   "cell_type": "markdown",
   "metadata": {},
   "source": [
    "##### b) Calculation of the GC ratio for each the whole genome."
   ]
  },
  {
   "cell_type": "code",
   "execution_count": 53,
   "metadata": {},
   "outputs": [
    {
     "name": "stdout",
     "output_type": "stream",
     "text": [
      "47.16\n"
     ]
    }
   ],
   "source": [
    "gc_com = round(((comp_com['G']+comp_com['C'])/length_com)*100,2)\n",
    "print(gc_com)"
   ]
  },
  {
   "cell_type": "markdown",
   "metadata": {},
   "source": [
    "#### 11. Writing the results in an output file."
   ]
  },
  {
   "cell_type": "code",
   "execution_count": 75,
   "metadata": {},
   "outputs": [],
   "source": [
    "with open ('Output_homework2.txt', 'w') as file1:\n",
    "    file1.write('The properties of the cytochrom c gene of the dog are given here.'+'\\n')\n",
    "    file1.write('The gene has '+str(length_com)+' bases.'+'\\n')\n",
    "    file1.write('It has '+'\\t'+str(composition_gene['A'])+' adenines\\n'+'\\t'+str(composition_gene['C'])+' cytosines\\n'\\\n",
    "                +'\\t'+str(composition_gene['G'])+' guanines and\\n'+'\\t'+str(composition_gene['T'])+' thymines.\\n')\n",
    "    file1.write('This corresponds to a GC ratio of '+str(gc_com)+'.\\n')\n",
    "    file1.write('The gene has '+str(num_exon)+' exons, '+str(num_cds)+' cds and '+str(num_intron)+' introns.'+'\\n\\n')\n",
    "    file1.write('The lengths and compositions of the sequences are:\\n')\n",
    "    file1.write('\\t\\t'+'Length'+'\\tAdenine'+'\\tCytosine'+'Guanine'+'\\tThymine'+'\\tGC ratio [%]'+'\\n')\n",
    "    file1.write('Cds: '+'\\t\\t'+str(lengths_sep[0])+'\\t'+str(overview[0][1]['A'])+'\\t'+str(overview[0][1]['C'])+'\\t'+\\\n",
    "                str(overview[0][1]['G'])+'\\t'+str(overview[0][1]['T'])+'\\t'+str(gc[0])+'\\n')\n",
    "    file1.write('Exon 1'+'\\t\\t'+str(lengths_sep[1])+'\\t'+str(overview[1][1]['A'])+'\\t'+str(overview[1][1]['C'])+'\\t'+\\\n",
    "                str(overview[1][1]['G'])+'\\t'+str(overview[1][1]['T'])+'\\t'+str(gc[1])+'\\n')\n",
    "    file1.write('Exon 2: '+'\\t'+str(lengths_sep[2])+'\\t'+str(overview[2][1]['A'])+'\\t'+str(overview[2][1]['C'])+'\\t'+\\\n",
    "                str(overview[2][1]['G'])+'\\t'+str(overview[2][1]['T'])+'\\t'+str(gc[2])+'\\n')\n",
    "    file1.write('Exon 3: '+'\\t'+str(lengths_sep[3])+'\\t'+str(overview[3][1]['A'])+'\\t'+str(overview[3][1]['C'])+'\\t'+\\\n",
    "                str(overview[3][1]['G'])+'\\t'+str(overview[3][1]['T'])+'\\t'+str(gc[3])+'\\n')\n",
    "    file1.write('Intron 1: '+'\\t'+str(lengths_sep[4])+'\\t'+str(overview[4][1]['A'])+'\\t'+str(overview[4][1]['C'])+'\\t'+\\\n",
    "                str(overview[4][1]['G'])+'\\t'+str(overview[4][1]['T'])+'\\t'+str(gc[4])+'\\n')\n",
    "    file1.write('Intron 2: '+'\\t'+str(lengths_sep[5])+'\\t'+str(overview[5][1]['A'])+'\\t'+str(overview[5][1]['C'])+'\\t'+\\\n",
    "                str(overview[5][1]['G'])+'\\t'+str(overview[5][1]['T'])+'\\t'+str(gc[5])+'\\n')"
   ]
  },
  {
   "cell_type": "code",
   "execution_count": null,
   "metadata": {},
   "outputs": [],
   "source": []
  }
 ],
 "metadata": {
  "kernelspec": {
   "display_name": "Python 3",
   "language": "python",
   "name": "python3"
  },
  "language_info": {
   "codemirror_mode": {
    "name": "ipython",
    "version": 3
   },
   "file_extension": ".py",
   "mimetype": "text/x-python",
   "name": "python",
   "nbconvert_exporter": "python",
   "pygments_lexer": "ipython3",
   "version": "3.7.0"
  }
 },
 "nbformat": 4,
 "nbformat_minor": 2
}
