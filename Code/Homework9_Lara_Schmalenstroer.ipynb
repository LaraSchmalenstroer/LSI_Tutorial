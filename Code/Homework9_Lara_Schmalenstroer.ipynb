{
 "cells": [
  {
   "cell_type": "code",
   "execution_count": 4,
   "metadata": {},
   "outputs": [],
   "source": [
    "gene_sets = {\n",
    "'arsenic' : {1,2,3,4,5,6,8,12},\n",
    "'cadmium' : {2,12,6,4},\n",
    "'copper' : {7,6,10,4,8},\n",
    "'mercury': {3,2,4,5,1}\n",
    "}\n"
   ]
  },
  {
   "cell_type": "code",
   "execution_count": 5,
   "metadata": {},
   "outputs": [
    {
     "data": {
      "text/plain": [
       "{1, 2, 3, 4, 5, 6, 8, 12}"
      ]
     },
     "execution_count": 5,
     "metadata": {},
     "output_type": "execute_result"
    }
   ],
   "source": [
    "gene_sets['arsenic']"
   ]
  },
  {
   "cell_type": "code",
   "execution_count": 6,
   "metadata": {},
   "outputs": [],
   "source": [
    "def get_pairwise_scores(sets, query1, query2):\n",
    "    union={}\n",
    "    intersection={}\n",
    "    score_matrix={}\n",
    "    sets_sorted=dict(sorted(sets.items(), key=lambda x: x[0].lower()))\n",
    "    for key in sets_sorted:\n",
    "        score_matrix[key]={}\n",
    "        for k in sets_sorted:\n",
    "            if key<k:\n",
    "                union[key+'+'+k]=sets_sorted[key].union(sets_sorted[k])\n",
    "                intersection[key+'+'+k]=sets_sorted[key].intersection(sets_sorted[k])\n",
    "                ratio=round(len(intersection[key+'+'+k])/len(union[key+'+'+k]),2)\n",
    "                score_matrix[key][k]=ratio\n",
    "    if query1 not in sets or query2 not in sets:\n",
    "        raise ValueError('The queries are not part of the input set.')\n",
    "    elif query1<query2:\n",
    "        return score_matrix[query1][query2]\n",
    "    elif query1>query2:\n",
    "        return score_matrix[query2][query1]\n",
    "    elif query1==query2:\n",
    "        return score_matrix, 1\n",
    "    "
   ]
  },
  {
   "cell_type": "code",
   "execution_count": 13,
   "metadata": {},
   "outputs": [],
   "source": [
    "def get_highest_pair(sets):\n",
    "    union={}\n",
    "    intersection={}\n",
    "    score_matrix={}\n",
    "    sets_sorted=dict(sorted(sets.items(), key=lambda x: x[0].lower()))\n",
    "    for key in sets_sorted:\n",
    "        score_matrix[key]={}\n",
    "        for k in sets_sorted:\n",
    "            if key<k:\n",
    "                union[key+'+'+k]=sets_sorted[key].union(sets_sorted[k])\n",
    "                intersection[key+'+'+k]=sets_sorted[key].intersection(sets_sorted[k])\n",
    "                ratio=round(len(intersection[key+'+'+k])/len(union[key+'+'+k]),2)\n",
    "                score_matrix[key][k]=ratio\n",
    "    maximum={}\n",
    "    max_val=0\n",
    "    for key in score_matrix:\n",
    "        for k in score_matrix[key]:\n",
    "            if score_matrix[key][k]>max_val:\n",
    "                max_val=score_matrix[key][k]\n",
    "                string=key+'+'+k\n",
    "    maximum[string]=max_val\n",
    "    return maximum"
   ]
  },
  {
   "cell_type": "code",
   "execution_count": 8,
   "metadata": {},
   "outputs": [
    {
     "data": {
      "text/plain": [
       "0.3"
      ]
     },
     "execution_count": 8,
     "metadata": {},
     "output_type": "execute_result"
    }
   ],
   "source": [
    "get_pairwise_scores(gene_sets, 'copper','arsenic')"
   ]
  },
  {
   "cell_type": "code",
   "execution_count": 9,
   "metadata": {},
   "outputs": [
    {
     "data": {
      "text/plain": [
       "0.62"
      ]
     },
     "execution_count": 9,
     "metadata": {},
     "output_type": "execute_result"
    }
   ],
   "source": [
    "get_pairwise_scores(gene_sets, 'arsenic','mercury')"
   ]
  },
  {
   "cell_type": "code",
   "execution_count": 10,
   "metadata": {},
   "outputs": [
    {
     "data": {
      "text/plain": [
       "({'arsenic': {'cadmium': 0.5, 'copper': 0.3, 'mercury': 0.62},\n",
       "  'cadmium': {'copper': 0.29, 'mercury': 0.29},\n",
       "  'copper': {'mercury': 0.11},\n",
       "  'mercury': {}},\n",
       " 1)"
      ]
     },
     "execution_count": 10,
     "metadata": {},
     "output_type": "execute_result"
    }
   ],
   "source": [
    "get_pairwise_scores(gene_sets,'cadmium','cadmium')"
   ]
  },
  {
   "cell_type": "code",
   "execution_count": 11,
   "metadata": {},
   "outputs": [
    {
     "ename": "ValueError",
     "evalue": "The queries are not part of the input set.",
     "output_type": "error",
     "traceback": [
      "\u001b[1;31m---------------------------------------------------------------------------\u001b[0m",
      "\u001b[1;31mValueError\u001b[0m                                Traceback (most recent call last)",
      "\u001b[1;32m<ipython-input-11-f2e1c25479b5>\u001b[0m in \u001b[0;36m<module>\u001b[1;34m()\u001b[0m\n\u001b[1;32m----> 1\u001b[1;33m \u001b[0mget_pairwise_scores\u001b[0m\u001b[1;33m(\u001b[0m\u001b[0mgene_sets\u001b[0m\u001b[1;33m,\u001b[0m\u001b[1;34m'cadmium'\u001b[0m\u001b[1;33m,\u001b[0m\u001b[1;34m'iron'\u001b[0m\u001b[1;33m)\u001b[0m\u001b[1;33m\u001b[0m\u001b[0m\n\u001b[0m",
      "\u001b[1;32m<ipython-input-6-856a90e61111>\u001b[0m in \u001b[0;36mget_pairwise_scores\u001b[1;34m(sets, query1, query2, matrix)\u001b[0m\n\u001b[0;32m     13\u001b[0m                 \u001b[0mscore_matrix\u001b[0m\u001b[1;33m[\u001b[0m\u001b[0mkey\u001b[0m\u001b[1;33m]\u001b[0m\u001b[1;33m[\u001b[0m\u001b[0mk\u001b[0m\u001b[1;33m]\u001b[0m\u001b[1;33m=\u001b[0m\u001b[0mratio\u001b[0m\u001b[1;33m\u001b[0m\u001b[0m\n\u001b[0;32m     14\u001b[0m     \u001b[1;32mif\u001b[0m \u001b[0mquery1\u001b[0m \u001b[1;32mnot\u001b[0m \u001b[1;32min\u001b[0m \u001b[0msets\u001b[0m \u001b[1;32mor\u001b[0m \u001b[0mquery2\u001b[0m \u001b[1;32mnot\u001b[0m \u001b[1;32min\u001b[0m \u001b[0msets\u001b[0m\u001b[1;33m:\u001b[0m\u001b[1;33m\u001b[0m\u001b[0m\n\u001b[1;32m---> 15\u001b[1;33m         \u001b[1;32mraise\u001b[0m \u001b[0mValueError\u001b[0m\u001b[1;33m(\u001b[0m\u001b[1;34m'The queries are not part of the input set.'\u001b[0m\u001b[1;33m)\u001b[0m\u001b[1;33m\u001b[0m\u001b[0m\n\u001b[0m\u001b[0;32m     16\u001b[0m     \u001b[1;32melif\u001b[0m \u001b[0mquery1\u001b[0m\u001b[1;33m<\u001b[0m\u001b[0mquery2\u001b[0m\u001b[1;33m:\u001b[0m\u001b[1;33m\u001b[0m\u001b[0m\n\u001b[0;32m     17\u001b[0m         \u001b[1;32mreturn\u001b[0m \u001b[0mscore_matrix\u001b[0m\u001b[1;33m[\u001b[0m\u001b[0mquery1\u001b[0m\u001b[1;33m]\u001b[0m\u001b[1;33m[\u001b[0m\u001b[0mquery2\u001b[0m\u001b[1;33m]\u001b[0m\u001b[1;33m\u001b[0m\u001b[0m\n",
      "\u001b[1;31mValueError\u001b[0m: The queries are not part of the input set."
     ]
    }
   ],
   "source": [
    "get_pairwise_scores(gene_sets,'cadmium','iron')"
   ]
  },
  {
   "cell_type": "code",
   "execution_count": 14,
   "metadata": {},
   "outputs": [
    {
     "data": {
      "text/plain": [
       "{'arsenic+mercury': 0.62}"
      ]
     },
     "execution_count": 14,
     "metadata": {},
     "output_type": "execute_result"
    }
   ],
   "source": [
    "get_highest_pair(gene_sets)"
   ]
  },
  {
   "cell_type": "markdown",
   "metadata": {},
   "source": [
    "The highest similarity score has the combination of arsenic and mercury with a score of 0.62. So the combination of mercury and arsenic affects the most genes. Copper and mercury have the lowest score with a value of 0.11. "
   ]
  },
  {
   "cell_type": "code",
   "execution_count": null,
   "metadata": {},
   "outputs": [],
   "source": []
  }
 ],
 "metadata": {
  "kernelspec": {
   "display_name": "Python 3",
   "language": "python",
   "name": "python3"
  },
  "language_info": {
   "codemirror_mode": {
    "name": "ipython",
    "version": 3
   },
   "file_extension": ".py",
   "mimetype": "text/x-python",
   "name": "python",
   "nbconvert_exporter": "python",
   "pygments_lexer": "ipython3",
   "version": "3.7.0"
  }
 },
 "nbformat": 4,
 "nbformat_minor": 2
}
