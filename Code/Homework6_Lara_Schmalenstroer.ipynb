{
 "cells": [
  {
   "cell_type": "markdown",
   "metadata": {},
   "source": [
    "# Project 6\n",
    "\n",
    "## Lara Schmalenstroer\n",
    "\n",
    "### 10.12.2020\n",
    "\n",
    "## From DNA to peptide: "
   ]
  },
  {
   "cell_type": "code",
   "execution_count": 1,
   "metadata": {},
   "outputs": [],
   "source": [
    "path='C:\\\\Users\\\\Lara\\\\LSITutorial\\\\Sense_DNA.txt'\n",
    "with open(path,'r') as file:\n",
    "    sense_strand=file.read().replace('\\n','')"
   ]
  },
  {
   "cell_type": "code",
   "execution_count": 2,
   "metadata": {},
   "outputs": [],
   "source": [
    "def get_complementary_base(base):\n",
    "    dict_comp={'A':'T','C':'G','G':'C','T':'A'}\n",
    "    comp_base=dict_comp[base]\n",
    "    return comp_base \n",
    "    #returns the complementary base for the base in the input\n",
    "\n",
    "def get_antisense_strand(sense_strand):\n",
    "    antisense_strand=''\n",
    "    for i in range(len(sense_strand)):\n",
    "        antisense_strand+=get_complementary_base(sense_strand[i])\n",
    "    return antisense_strand\n",
    "    #returns the antisense DNA strand. Calls the get_complementary base function for each base in the strand\n",
    "    \n",
    "def get_mRNA(antisense_strand):\n",
    "    mRNA_T=''\n",
    "    for i in range(len(antisense_strand)):\n",
    "        mRNA_T+=get_complementary_base(antisense_strand[i])\n",
    "    mRNA=mRNA_T.replace('T','U')\n",
    "    return mRNA\n",
    "    #returns the corrisponding mRNA strand. Calls the get_complementary base function for each base in the strand\n",
    "    #and replaces T by U\n",
    "\n",
    "def get_aminoacids(mRNA):\n",
    "    aminoacids=''\n",
    "    for i in range(len(mRNA)):\n",
    "        if mRNA[i]=='A' and mRNA[i+1]=='U' and mRNA[i+2]=='G': #finds the position of the start codon\n",
    "            print('Startcodon found!')\n",
    "            start=i\n",
    "            break\n",
    "    for j in range(start,len(mRNA)): #loops through the mRNA strand (beginning at start codon) and translates each codon\n",
    "        if j%3==0:\n",
    "            codon=mRNA[j:j+3]\n",
    "            aminoacids+=(dict_codons[codon])\n",
    "            if dict_codons=='STOP':\n",
    "                return aminoacids\n",
    "    return aminoacids"
   ]
  },
  {
   "cell_type": "code",
   "execution_count": 3,
   "metadata": {},
   "outputs": [
    {
     "name": "stdout",
     "output_type": "stream",
     "text": [
      "TACCCACTACAACTCTTCCCGTTCTTCTAAAAACAAGTCTTCACACGCGTCACGGTATGAATT\n"
     ]
    }
   ],
   "source": [
    "antisense_strand=get_antisense_strand(sense_strand)\n",
    "print(antisense_strand)"
   ]
  },
  {
   "cell_type": "code",
   "execution_count": 4,
   "metadata": {},
   "outputs": [],
   "source": [
    "mRNA=get_mRNA(antisense_strand)"
   ]
  },
  {
   "cell_type": "code",
   "execution_count": 5,
   "metadata": {},
   "outputs": [
    {
     "name": "stdout",
     "output_type": "stream",
     "text": [
      "ATGGGTGATGTTGAGAAGGGCAAGAAGATTTTTGTTCAGAAGTGTGCGCAGTGCCATACTTAA\n",
      "TACCCACTACAACTCTTCCCGTTCTTCTAAAAACAAGTCTTCACACGCGTCACGGTATGAATT\n",
      "AUGGGUGAUGUUGAGAAGGGCAAGAAGAUUUUUGUUCAGAAGUGUGCGCAGUGCCAUACUUAA\n"
     ]
    }
   ],
   "source": [
    "print(sense_strand)\n",
    "print(antisense_strand)\n",
    "print(mRNA)"
   ]
  },
  {
   "cell_type": "code",
   "execution_count": 6,
   "metadata": {},
   "outputs": [
    {
     "name": "stdout",
     "output_type": "stream",
     "text": [
      "('A', 'C', 'G', 'U')\n"
     ]
    }
   ],
   "source": [
    "bases_RNA=('A','C','G','U')\n",
    "print(bases_RNA)"
   ]
  },
  {
   "cell_type": "code",
   "execution_count": 7,
   "metadata": {},
   "outputs": [
    {
     "name": "stdout",
     "output_type": "stream",
     "text": [
      "['AAA', 'AAC', 'AAG', 'AAU', 'ACA', 'ACC', 'ACG', 'ACU', 'AGA', 'AGC', 'AGG', 'AGU', 'AUA', 'AUC', 'AUG', 'AUU', 'CAA', 'CAC', 'CAG', 'CAU', 'CCA', 'CCC', 'CCG', 'CCU', 'CGA', 'CGC', 'CGG', 'CGU', 'CUA', 'CUC', 'CUG', 'CUU', 'GAA', 'GAC', 'GAG', 'GAU', 'GCA', 'GCC', 'GCG', 'GCU', 'GGA', 'GGC', 'GGG', 'GGU', 'GUA', 'GUC', 'GUG', 'GUU', 'UAA', 'UAC', 'UAG', 'UAU', 'UCA', 'UCC', 'UCG', 'UCU', 'UGA', 'UGC', 'UGG', 'UGU', 'UUA', 'UUC', 'UUG', 'UUU']\n"
     ]
    }
   ],
   "source": [
    "codons=[bases_RNA[i]+bases_RNA[j]+bases_RNA[k] for i in range(len(bases_RNA)) for j in range(len(bases_RNA)) \\\n",
    "for k in range(len(bases_RNA))]\n",
    "print(codons)"
   ]
  },
  {
   "cell_type": "code",
   "execution_count": 8,
   "metadata": {},
   "outputs": [],
   "source": [
    "dict_codons = {\"UUU\":\"F\", \"UUC\":\"F\", \"UUA\":\"L\", \"UUG\":\"L\", \"UCU\":\"S\", \"UCC\":\"s\",\n",
    "\"UCA\":\"S\", \"UCG\":\"S\", \"UAU\":\"Y\", \"UAC\":\"Y\", \"UAA\":\"STOP\", \"UAG\":\"STOP\",\n",
    "\"UGU\":\"C\", \"UGC\":\"C\", \"UGA\":\"STOP\", \"UGG\":\"W\", \"CUU\":\"L\", \"CUC\":\"L\",\n",
    "\"CUA\":\"L\", \"CUG\":\"L\", \"CCU\":\"P\", \"CCC\":\"P\", \"CCA\":\"P\", \"CCG\":\"P\", \"CAU\":\"H\",\n",
    "\"CAC\":\"H\", \"CAA\":\"Q\", \"CAG\":\"Q\", \"CGU\":\"R\", \"CGC\":\"R\", \"CGA\":\"R\", \"CGG\":\"R\",\n",
    "\"AUU\":\"I\", \"AUC\":\"I\", \"AUA\":\"I\", \"AUG\":\"M\", \"ACU\":\"T\", \"ACC\":\"T\", \"ACA\":\"T\",\n",
    "\"ACG\":\"T\", \"AAU\":\"N\", \"AAC\":\"N\", \"AAA\":\"K\", \"AAG\":\"K\", \"AGU\":\"S\", \"AGC\":\"S\",\n",
    "\"AGA\":\"R\", \"AGG\":\"R\", \"GUU\":\"V\", \"GUC\":\"V\", \"GUA\":\"V\", \"GUG\":\"V\", \"GCU\":\"A\",\n",
    "\"GCC\":\"A\", \"GCA\":\"A\", \"GCG\":\"A\", \"GAU\":\"D\", \"GAC\":\"D\", \"GAA\":\"E\", \"GAG\":\"E\",\n",
    "\"GGU\":\"G\", \"GGC\":\"G\", \"GGA\":\"G\", \"GGG\":\"G\"}"
   ]
  },
  {
   "cell_type": "code",
   "execution_count": 9,
   "metadata": {},
   "outputs": [
    {
     "data": {
      "text/plain": [
       "64"
      ]
     },
     "execution_count": 9,
     "metadata": {},
     "output_type": "execute_result"
    }
   ],
   "source": [
    "len(dict_codons)"
   ]
  },
  {
   "cell_type": "code",
   "execution_count": 10,
   "metadata": {},
   "outputs": [
    {
     "name": "stdout",
     "output_type": "stream",
     "text": [
      "Startcodon found!\n",
      "MGDVEKGKKIFVQKCAQCHTSTOP\n"
     ]
    }
   ],
   "source": [
    "sequence_peptide=get_aminoacids(mRNA)\n",
    "print(sequence_peptide)"
   ]
  },
  {
   "cell_type": "code",
   "execution_count": 11,
   "metadata": {},
   "outputs": [
    {
     "name": "stdout",
     "output_type": "stream",
     "text": [
      "GDVEKGKKIFVQKCAQCHT\n"
     ]
    }
   ],
   "source": [
    "peptide=sequence_peptide[1:-4]\n",
    "print(peptide)"
   ]
  },
  {
   "cell_type": "code",
   "execution_count": 15,
   "metadata": {},
   "outputs": [],
   "source": [
    "with open('C:\\\\Users\\\\Lara\\\\LSITutorial\\\\Sense_DNA_output.txt','w') as out:\n",
    "    out.write('Sense strand: '+sense_strand+', length: '+str(len(sense_strand))+' bases.\\n')\n",
    "    out.write('Antisense strand: '+antisense_strand+', length: '+str(len(antisense_strand))+' bases.\\n')\n",
    "    out.write('mRNA: '+mRNA+', length: '+str(len(mRNA))+' bases.\\n')\n",
    "    out.write('Aminoacids with start and stop codon: '+sequence_peptide+'\\n')\n",
    "    out.write('Aminoacids without start and stop codon: '+peptide)"
   ]
  },
  {
   "cell_type": "code",
   "execution_count": 16,
   "metadata": {},
   "outputs": [
    {
     "name": "stdout",
     "output_type": "stream",
     "text": [
      "Sense strand: ATGGGTGATGTTGAGAAGGGCAAGAAGATTTTTGTTCAGAAGTGTGCGCAGTGCCATACTTAA, length: 63 bases.\n",
      "Antisense strand: TACCCACTACAACTCTTCCCGTTCTTCTAAAAACAAGTCTTCACACGCGTCACGGTATGAATT, length: 63 bases.\n",
      "mRNA: AUGGGUGAUGUUGAGAAGGGCAAGAAGAUUUUUGUUCAGAAGUGUGCGCAGUGCCAUACUUAA, length: 63 bases.\n",
      "Aminoacids with start and stop codon: MGDVEKGKKIFVQKCAQCHTSTOP\n",
      "Aminoacids without start and stop codon: GDVEKGKKIFVQKCAQCHT\n"
     ]
    }
   ],
   "source": [
    "with open('Sense_DNA_output.txt','r') as f:\n",
    "    data=f.read()\n",
    "    \n",
    "print(data)"
   ]
  },
  {
   "cell_type": "code",
   "execution_count": null,
   "metadata": {},
   "outputs": [],
   "source": []
  }
 ],
 "metadata": {
  "kernelspec": {
   "display_name": "Python 3",
   "language": "python",
   "name": "python3"
  },
  "language_info": {
   "codemirror_mode": {
    "name": "ipython",
    "version": 3
   },
   "file_extension": ".py",
   "mimetype": "text/x-python",
   "name": "python",
   "nbconvert_exporter": "python",
   "pygments_lexer": "ipython3",
   "version": "3.7.0"
  }
 },
 "nbformat": 4,
 "nbformat_minor": 2
}
