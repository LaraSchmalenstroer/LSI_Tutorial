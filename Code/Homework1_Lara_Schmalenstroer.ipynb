{
 "cells": [
  {
   "cell_type": "markdown",
   "metadata": {},
   "source": [
    "my_list=[1, 24,7,35,2,7,5,17,3]\n",
    "your_list=['gene 1', 'gene2', 'gene3', 'gene4', 'gene5']\n",
    "\n",
    "Please do the following with the above mentioned lists:\n",
    "1. Determine the length of each list\n",
    "2. Determine the highest\n",
    "3. and the lowest element\n",
    "4. sort each list\n",
    "5. remove the element at index number 1 of the sorted list\n",
    "6. append this element\n",
    "7. Merge my_list with your_list\n",
    "8. Use the print () function to document each step of this task\n",
    "9. Find the correct syntax of the above needed methods in the Python\n",
    "documentation."
   ]
  },
  {
   "cell_type": "code",
   "execution_count": 13,
   "metadata": {},
   "outputs": [],
   "source": [
    "my_list=[1,24,7,35,2,7,5,17,3]\n",
    "your_list=['gene1','gene2','gene3','gene4','gene5']"
   ]
  },
  {
   "cell_type": "markdown",
   "metadata": {},
   "source": [
    "Determination of the lengths of the lists with the len() method. The lengths are then printed."
   ]
  },
  {
   "cell_type": "code",
   "execution_count": 14,
   "metadata": {},
   "outputs": [
    {
     "name": "stdout",
     "output_type": "stream",
     "text": [
      "The length of my_list is:  9\n",
      "The length of your_list is:  5\n"
     ]
    }
   ],
   "source": [
    "len(my_list)\n",
    "print(\"The length of my_list is: \",len(my_list))\n",
    "len(your_list)\n",
    "print(\"The length of your_list is: \",len(your_list))"
   ]
  },
  {
   "cell_type": "markdown",
   "metadata": {},
   "source": [
    "Determination of the highest element of the lists using the max() function. As an input, the function requires a list. "
   ]
  },
  {
   "cell_type": "code",
   "execution_count": 15,
   "metadata": {},
   "outputs": [
    {
     "name": "stdout",
     "output_type": "stream",
     "text": [
      "The highest value of my_list is:  35\n",
      "The highest value of your_list is:  gene5\n"
     ]
    }
   ],
   "source": [
    "print(\"The highest value of my_list is: \", max(my_list))\n",
    "print(\"The highest value of your_list is: \", max(your_list))"
   ]
  },
  {
   "cell_type": "markdown",
   "metadata": {},
   "source": [
    "The lowest element of each list is found by using the min() function. "
   ]
  },
  {
   "cell_type": "code",
   "execution_count": 16,
   "metadata": {},
   "outputs": [
    {
     "name": "stdout",
     "output_type": "stream",
     "text": [
      "The lowest element of my_list is:  1\n",
      "The lowest element of your_list is:  gene1\n"
     ]
    }
   ],
   "source": [
    "print(\"The lowest element of my_list is: \", min(my_list))\n",
    "print(\"The lowest element of your_list is: \", min(your_list))"
   ]
  },
  {
   "cell_type": "markdown",
   "metadata": {},
   "source": [
    "The lists are sorted by using the list.sort() method. "
   ]
  },
  {
   "cell_type": "code",
   "execution_count": 17,
   "metadata": {},
   "outputs": [
    {
     "name": "stdout",
     "output_type": "stream",
     "text": [
      "my sorted list is:  [1, 2, 3, 5, 7, 7, 17, 24, 35]\n",
      "your sorted list is:  ['gene1', 'gene2', 'gene3', 'gene4', 'gene5']\n"
     ]
    }
   ],
   "source": [
    "my_list.sort()\n",
    "print(\"my sorted list is: \", my_list)\n",
    "your_list.sort()\n",
    "print(\"your sorted list is: \", your_list)"
   ]
  },
  {
   "cell_type": "markdown",
   "metadata": {},
   "source": [
    "The element at index 1 is removed by using the list.pop([i]) method. As an argument, the method requires the index at which the element should be removed."
   ]
  },
  {
   "cell_type": "code",
   "execution_count": 21,
   "metadata": {},
   "outputs": [
    {
     "name": "stdout",
     "output_type": "stream",
     "text": [
      "my new list is:  [1, 3, 5, 7, 7, 17, 24, 35]\n",
      "your new list is:  ['gene1', 'gene3', 'gene4', 'gene5']\n"
     ]
    }
   ],
   "source": [
    "my_list.pop(1)\n",
    "print(\"my new list is: \", my_list)\n",
    "your_list.pop(1)\n",
    "print(\"your new list is: \", your_list)"
   ]
  },
  {
   "cell_type": "markdown",
   "metadata": {},
   "source": [
    "The removed elements, 2 in my_list and gene2 in your_list, are appended to the lists using the list.append() method. "
   ]
  },
  {
   "cell_type": "code",
   "execution_count": 22,
   "metadata": {},
   "outputs": [
    {
     "name": "stdout",
     "output_type": "stream",
     "text": [
      "my new list is:  [1, 3, 5, 7, 7, 17, 24, 35, 2]\n",
      "your new list is:  ['gene1', 'gene3', 'gene4', 'gene5', 'gene2']\n"
     ]
    }
   ],
   "source": [
    "my_list.append(2)\n",
    "print(\"my new list is: \", my_list)\n",
    "your_list.append(\"gene2\")\n",
    "print(\"your new list is: \", your_list)"
   ]
  },
  {
   "cell_type": "markdown",
   "metadata": {},
   "source": [
    "The two lists are merged together via addition. "
   ]
  },
  {
   "cell_type": "code",
   "execution_count": 23,
   "metadata": {},
   "outputs": [
    {
     "name": "stdout",
     "output_type": "stream",
     "text": [
      "The merged list is:  [1, 3, 5, 7, 7, 17, 24, 35, 2, 'gene1', 'gene3', 'gene4', 'gene5', 'gene2']\n"
     ]
    }
   ],
   "source": [
    "merged_list = my_list + your_list\n",
    "print(\"The merged list is: \", merged_list)"
   ]
  },
  {
   "cell_type": "code",
   "execution_count": null,
   "metadata": {},
   "outputs": [],
   "source": []
  }
 ],
 "metadata": {
  "kernelspec": {
   "display_name": "Python 3",
   "language": "python",
   "name": "python3"
  },
  "language_info": {
   "codemirror_mode": {
    "name": "ipython",
    "version": 3
   },
   "file_extension": ".py",
   "mimetype": "text/x-python",
   "name": "python",
   "nbconvert_exporter": "python",
   "pygments_lexer": "ipython3",
   "version": "3.7.0"
  }
 },
 "nbformat": 4,
 "nbformat_minor": 2
}
