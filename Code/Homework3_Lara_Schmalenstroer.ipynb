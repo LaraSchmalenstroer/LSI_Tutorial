{
 "cells": [
  {
   "cell_type": "code",
   "execution_count": 65,
   "metadata": {},
   "outputs": [],
   "source": [
    "keyboard_en_ge={}\n",
    "keyboard_en_ge['tab']='tabulator'\n",
    "keyboard_en_ge['caps lock']='feststelltaste'\n",
    "keyboard_en_ge['shift']='großbuchstaben'\n",
    "keyboard_en_ge['ctrl']='strg'\n",
    "keyboard_en_ge['backspace']='löschen'\n",
    "keyboard_en_ge['enter']='eingabetaste'\n",
    "keyboard_en_ge['alt']='alt'\n",
    "keyboard_en_ge['altGr']='altGr'\n",
    "keyboard_en_ge['win key']='win'\n",
    "keyboard_en_ge['insert']='einf'\n",
    "keyboard_en_ge['del']='entf'\n",
    "keyboard_en_ge['home']='pos1'\n",
    "keyboard_en_ge['end']='ende'\n",
    "keyboard_en_ge['page up']='bild auf'\n",
    "keyboard_en_ge['page down']='bild ab'\n",
    "keyboard_en_ge['print']='druck'\n",
    "keyboard_en_ge['scroll']='rollen'\n",
    "keyboard_en_ge['break']='pause'\n",
    "keyboard_en_ge['space']='leertaste'\n",
    "keyboard_en_ge['arrow']='pfeiltaste'\n",
    "keyboard_en_ge['esc']='abbruch'"
   ]
  },
  {
   "cell_type": "code",
   "execution_count": 7,
   "metadata": {},
   "outputs": [],
   "source": [
    "from tkinter import *"
   ]
  },
  {
   "cell_type": "code",
   "execution_count": 39,
   "metadata": {},
   "outputs": [
    {
     "data": {
      "text/plain": [
       "dict_keys(['Tab', 'Caps lock', 'Shift', 'Ctrl', 'Backspace', 'Enter', 'Alt', 'AltGr', 'Win key', 'Insert', 'Del', 'Home', 'End', 'Page up', 'Page down', 'Print', 'Scroll', 'Break', 'Space', 'Arrow', 'Esc'])"
      ]
     },
     "execution_count": 39,
     "metadata": {},
     "output_type": "execute_result"
    }
   ],
   "source": [
    "keyboard_en_ge.keys()"
   ]
  },
  {
   "cell_type": "code",
   "execution_count": 40,
   "metadata": {},
   "outputs": [
    {
     "data": {
      "text/plain": [
       "dict_items([('Tab', 'Tabulator'), ('Caps lock', 'Feststelltaste'), ('Shift', 'Großbuchstaben'), ('Ctrl', 'Strg'), ('Backspace', 'Löschen'), ('Enter', 'Eingabetaste'), ('Alt', 'Alt'), ('AltGr', 'AltGr'), ('Win key', 'Win'), ('Insert', 'Einf'), ('Del', 'Entf'), ('Home', 'Pos1'), ('End', 'Ende'), ('Page up', 'Bild auf'), ('Page down', 'Bild ab'), ('Print', 'Druck'), ('Scroll', 'Rollen'), ('Break', 'Pause'), ('Space', 'Leertaste'), ('Arrow', 'Pfeiltaste'), ('Esc', 'Abbruch')])"
      ]
     },
     "execution_count": 40,
     "metadata": {},
     "output_type": "execute_result"
    }
   ],
   "source": [
    "keyboard_en_ge.items()"
   ]
  },
  {
   "cell_type": "code",
   "execution_count": 41,
   "metadata": {},
   "outputs": [
    {
     "data": {
      "text/plain": [
       "dict_values(['Tabulator', 'Feststelltaste', 'Großbuchstaben', 'Strg', 'Löschen', 'Eingabetaste', 'Alt', 'AltGr', 'Win', 'Einf', 'Entf', 'Pos1', 'Ende', 'Bild auf', 'Bild ab', 'Druck', 'Rollen', 'Pause', 'Leertaste', 'Pfeiltaste', 'Abbruch'])"
      ]
     },
     "execution_count": 41,
     "metadata": {},
     "output_type": "execute_result"
    }
   ],
   "source": [
    "keyboard_en_ge.values()"
   ]
  },
  {
   "cell_type": "code",
   "execution_count": 42,
   "metadata": {},
   "outputs": [
    {
     "data": {
      "text/plain": [
       "'Tabulator'"
      ]
     },
     "execution_count": 42,
     "metadata": {},
     "output_type": "execute_result"
    }
   ],
   "source": [
    "keyboard_en_ge['Tab']"
   ]
  },
  {
   "cell_type": "markdown",
   "metadata": {},
   "source": [
    "Tkinter -> TK interface \n",
    "layout managers:\n",
    "pack() -> used here (easiest)\n",
    "grid()\n",
    "place()"
   ]
  },
  {
   "cell_type": "code",
   "execution_count": 18,
   "metadata": {},
   "outputs": [],
   "source": [
    "#initialize a window or widget\n",
    "mGui=Tk() \n",
    "\n",
    "#assigns query to be a string variable\n",
    "#query=StringVar()\n",
    "\n",
    "#Does formats of the window\n",
    "mGui.geometry(\"260x170+300+300\")\n",
    "\n",
    "#Gives the window a name\n",
    "mGui.title('Hello')\n",
    "\n",
    "#Displays text in widget\n",
    "#pady: height of the text, if pady=0, the text is directly at the upper line of the window\n",
    "mLabel2=Label(mGui,text='Hello World!',font=('Calibri',50)).pack(pady=0)\n",
    "\n",
    "#Kickstarts the loop\n",
    "mainloop()"
   ]
  },
  {
   "cell_type": "code",
   "execution_count": 21,
   "metadata": {},
   "outputs": [
    {
     "name": "stdout",
     "output_type": "stream",
     "text": [
      "Enter your query Enter\n",
      "The translation is:  Eingabetaste\n"
     ]
    }
   ],
   "source": [
    "name=input('Enter your query ')\n",
    "#print(name)\n",
    "print('The translation is: ',keyboard_en_ge[name])"
   ]
  },
  {
   "cell_type": "code",
   "execution_count": 66,
   "metadata": {},
   "outputs": [
    {
     "name": "stdout",
     "output_type": "stream",
     "text": [
      "{'tabulator': 'tab', 'feststelltaste': 'caps lock', 'großbuchstaben': 'shift', 'strg': 'ctrl', 'löschen': 'backspace', 'eingabetaste': 'enter', 'alt': 'alt', 'altGr': 'altGr', 'win': 'win key', 'einf': 'insert', 'entf': 'del', 'pos1': 'home', 'ende': 'end', 'bild auf': 'page up', 'bild ab': 'page down', 'druck': 'print', 'rollen': 'scroll', 'pause': 'break', 'leertaste': 'space', 'pfeiltaste': 'arrow', 'abbruch': 'esc'}\n"
     ]
    }
   ],
   "source": [
    "keyboard_ge_en={value:key for key,value in keyboard_en_ge.items()}\n",
    "print(keyboard_ge_en)"
   ]
  },
  {
   "cell_type": "code",
   "execution_count": 67,
   "metadata": {},
   "outputs": [],
   "source": [
    "def translate():\n",
    "    word=query.get()\n",
    "    word_low=word.lower()\n",
    "    if word_low in keyboard_en_ge.keys():\n",
    "        val=keyboard_en_ge[word_low]\n",
    "        labelword=Label(Gui_trans,text=val).pack()\n",
    "    elif word_low in keyboard_ge_en.keys():\n",
    "        val=keyboard_ge_en[word_low]\n",
    "        labelword=Label(Gui_trans,text=val).pack()\n",
    "    else: \n",
    "        print('The searched word doesn\\'t occur in the dictionaries' )\n",
    "    return\n",
    "\n",
    "\n",
    "Gui_trans=Tk()\n",
    "query=StringVar()\n",
    "Gui_trans.geometry(\"260x170+300+300\")\n",
    "Gui_trans.title('Translation')\n",
    "label_trans1=Label(Gui_trans, text='Enter your query!').pack(pady=0)\n",
    "button_trans1=Button(Gui_trans, text='Translate!', command=translate).pack()\n",
    "entry_trans=Entry(Gui_trans,textvariable=query).pack(pady=5)\n",
    "button_trans2=Button(Gui_trans, text='Quit!', command=Gui_trans.destroy).pack()\n",
    "#button_trans3=Button(Gui_trans,text='Clear text!',command=clear_text)\n",
    "mainloop()"
   ]
  },
  {
   "cell_type": "code",
   "execution_count": null,
   "metadata": {},
   "outputs": [],
   "source": []
  },
  {
   "cell_type": "code",
   "execution_count": null,
   "metadata": {},
   "outputs": [],
   "source": []
  },
  {
   "cell_type": "code",
   "execution_count": null,
   "metadata": {},
   "outputs": [],
   "source": []
  }
 ],
 "metadata": {
  "kernelspec": {
   "display_name": "Python 3",
   "language": "python",
   "name": "python3"
  },
  "language_info": {
   "codemirror_mode": {
    "name": "ipython",
    "version": 3
   },
   "file_extension": ".py",
   "mimetype": "text/x-python",
   "name": "python",
   "nbconvert_exporter": "python",
   "pygments_lexer": "ipython3",
   "version": "3.7.0"
  }
 },
 "nbformat": 4,
 "nbformat_minor": 2
}
