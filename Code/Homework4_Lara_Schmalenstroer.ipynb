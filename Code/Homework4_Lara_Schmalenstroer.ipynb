{
 "cells": [
  {
   "cell_type": "markdown",
   "metadata": {},
   "source": [
    "# Homework 4 LSI Tutorial \n",
    "\n",
    "## Lara Schmalenstroer\n",
    "\n",
    "## 29.11.2020"
   ]
  },
  {
   "cell_type": "markdown",
   "metadata": {},
   "source": [
    "### Defining the needed functions"
   ]
  },
  {
   "cell_type": "code",
   "execution_count": 1,
   "metadata": {},
   "outputs": [],
   "source": [
    "def base_count(gene):\n",
    "    count_A=0\n",
    "    count_C=0\n",
    "    count_G=0\n",
    "    count_T=0\n",
    "    for value in gene:\n",
    "        count_A+=gene[value].count('A')\n",
    "        count_C+=gene[value].count('C')\n",
    "        count_G+=gene[value].count('G')\n",
    "        count_T+=gene[value].count('T')\n",
    "    result={'A':count_A,'C':count_C,'G':count_G,'T':count_T}\n",
    "    return result"
   ]
  },
  {
   "cell_type": "code",
   "execution_count": 2,
   "metadata": {},
   "outputs": [],
   "source": [
    "def exon_count(gene):\n",
    "    count_exon=gene.count('exon')\n",
    "    return count_exon"
   ]
  },
  {
   "cell_type": "code",
   "execution_count": 3,
   "metadata": {},
   "outputs": [],
   "source": [
    "def intron_count(gene):\n",
    "    count_intron=gene.count('intron')\n",
    "    return count_intron"
   ]
  },
  {
   "cell_type": "code",
   "execution_count": 4,
   "metadata": {},
   "outputs": [],
   "source": [
    "def length_exon(gene):\n",
    "    length=0\n",
    "    for key in gene:\n",
    "        if 'exon' in key or 'cds' in key:\n",
    "            length+=gene[key].count('A')+gene[key].count('C')+gene[key].count('G')+gene[key].count('T')\n",
    "    return length"
   ]
  },
  {
   "cell_type": "code",
   "execution_count": 5,
   "metadata": {},
   "outputs": [],
   "source": [
    "def length_intron(gene):\n",
    "    length=0\n",
    "    for key in gene:\n",
    "        if 'intron' in key:\n",
    "            length+=gene[key].count('A')+gene[key].count('C')+gene[key].count('G')+gene[key].count('T')\n",
    "    return length"
   ]
  },
  {
   "cell_type": "code",
   "execution_count": 6,
   "metadata": {},
   "outputs": [],
   "source": [
    "def gc_ratio(gene):\n",
    "    g_content=base_count(gene)['G']\n",
    "    c_content=base_count(gene)['C']\n",
    "    ratio=round((g_content+c_content)/len(gene)*100,2)\n",
    "    return ratio"
   ]
  },
  {
   "cell_type": "code",
   "execution_count": 7,
   "metadata": {},
   "outputs": [],
   "source": [
    "def at_ratio(gene):\n",
    "    gc_content=gc_ratio(gene)\n",
    "    at_content=100-gc_content\n",
    "    return at_content"
   ]
  },
  {
   "cell_type": "code",
   "execution_count": 8,
   "metadata": {},
   "outputs": [],
   "source": [
    "def length_gene(gene):\n",
    "    count=base_count(gene)['A']+base_count(gene)['C']+base_count(gene)['G']+base_count(gene)['T']\n",
    "    return count"
   ]
  },
  {
   "cell_type": "markdown",
   "metadata": {},
   "source": [
    "### Import and processing of the files"
   ]
  },
  {
   "cell_type": "code",
   "execution_count": 9,
   "metadata": {},
   "outputs": [],
   "source": [
    "import os, glob"
   ]
  },
  {
   "cell_type": "code",
   "execution_count": 10,
   "metadata": {},
   "outputs": [],
   "source": [
    "dict_cycs={}\n",
    "path='C:\\\\Users\\\\Lara\\\\'\n",
    "os.chdir(path)\n",
    "for file in glob.glob('*CYCS*'):\n",
    "    dict_fragments={}\n",
    "    with open(file,'r') as data:\n",
    "        content=data.read()\n",
    "        sequences=content.split('>')[1:]\n",
    "        for seq in sequences:\n",
    "            seq=seq.partition('\\n')\n",
    "            dict_sequence[seq[0]]=seq[2].replace('\\n','')\n",
    "            #print(dict_sequence[seq[0]],'\\n')\n",
    "        introns=intron_count(content)\n",
    "        exons=exon_count(content)\n",
    "        #print(introns,exons)\n",
    "        basecount=base_count(dict_sequence)\n",
    "        #print(basecount)\n",
    "        total_length=length_gene(dict_sequence)\n",
    "        #print(total_length)\n",
    "        exon_length=length_exon(dict_sequence)\n",
    "        #print(exon_length)\n",
    "        intron_length=length_intron(dict_sequence)\n",
    "        #print(intron_length)\n",
    "        gc_content=round((basecount['C']+basecount['G'])/total_length*100,2)\n",
    "        #print(gc_content)\n",
    "        at_content=100-gc_content\n",
    "        #print(at_content)\n",
    "        dict_cycs[file.replace('.txt','')]=[total_length,introns,intron_length,exons,exon_length,gc_content,at_content]"
   ]
  },
  {
   "cell_type": "code",
   "execution_count": 11,
   "metadata": {},
   "outputs": [
    {
     "name": "stdout",
     "output_type": "stream",
     "text": [
      "{'Chimp_CYCS': [2904, 6, 1259, 7, 1645, 64.84, 35.16], 'CYCS_dog': [2856, 2, 1208, 3, 1648, 47.16, 52.84], 'homo_Variant 1_CYCS': [5271, 2, 1173, 3, 4098, 43.01, 56.99], 'homo_Variant 2_CYCS': [1943, 2, 969, 3, 974, 44.0, 56.0], 'homo_Variant 3_CYCS': [1817, 3, 1018, 4, 799, 45.18, 54.82], 'homo_Variant 4_CYCS': [1545, 3, 1047, 4, 498, 47.51, 52.49], 'Zebrasfish_CYCS': [5156, 4, 4384, 5, 772, 33.69, 66.31]}\n"
     ]
    }
   ],
   "source": [
    "print(dict_cycs)"
   ]
  },
  {
   "cell_type": "markdown",
   "metadata": {},
   "source": [
    "### Export as .csv file and import as pandas dataframe"
   ]
  },
  {
   "cell_type": "code",
   "execution_count": 12,
   "metadata": {},
   "outputs": [],
   "source": [
    "import csv\n",
    "row_names=['Name','length of the gene','number of introns','length of introns','number of exons','length of exons',\\\n",
    "          'GC content in %','AT content in %']\n",
    "with open('Results.csv','w',newline='') as writeFile:\n",
    "    writer=csv.writer(writeFile)\n",
    "    writer.writerow(row_names)\n",
    "    for key in dict_cycs.keys():\n",
    "        writer.writerow([key]+dict_cycs[key])"
   ]
  },
  {
   "cell_type": "code",
   "execution_count": 13,
   "metadata": {},
   "outputs": [
    {
     "data": {
      "text/html": [
       "<div>\n",
       "<style scoped>\n",
       "    .dataframe tbody tr th:only-of-type {\n",
       "        vertical-align: middle;\n",
       "    }\n",
       "\n",
       "    .dataframe tbody tr th {\n",
       "        vertical-align: top;\n",
       "    }\n",
       "\n",
       "    .dataframe thead th {\n",
       "        text-align: right;\n",
       "    }\n",
       "</style>\n",
       "<table border=\"1\" class=\"dataframe\">\n",
       "  <thead>\n",
       "    <tr style=\"text-align: right;\">\n",
       "      <th></th>\n",
       "      <th>length of the gene</th>\n",
       "      <th>number of introns</th>\n",
       "      <th>length of introns</th>\n",
       "      <th>number of exons</th>\n",
       "      <th>length of exons</th>\n",
       "      <th>GC content in %</th>\n",
       "      <th>AT content in %</th>\n",
       "    </tr>\n",
       "    <tr>\n",
       "      <th>Name</th>\n",
       "      <th></th>\n",
       "      <th></th>\n",
       "      <th></th>\n",
       "      <th></th>\n",
       "      <th></th>\n",
       "      <th></th>\n",
       "      <th></th>\n",
       "    </tr>\n",
       "  </thead>\n",
       "  <tbody>\n",
       "    <tr>\n",
       "      <th>Chimp_CYCS</th>\n",
       "      <td>2904</td>\n",
       "      <td>6</td>\n",
       "      <td>1259</td>\n",
       "      <td>7</td>\n",
       "      <td>1645</td>\n",
       "      <td>64.84</td>\n",
       "      <td>35.16</td>\n",
       "    </tr>\n",
       "    <tr>\n",
       "      <th>CYCS_dog</th>\n",
       "      <td>2856</td>\n",
       "      <td>2</td>\n",
       "      <td>1208</td>\n",
       "      <td>3</td>\n",
       "      <td>1648</td>\n",
       "      <td>47.16</td>\n",
       "      <td>52.84</td>\n",
       "    </tr>\n",
       "    <tr>\n",
       "      <th>homo_Variant 1_CYCS</th>\n",
       "      <td>5271</td>\n",
       "      <td>2</td>\n",
       "      <td>1173</td>\n",
       "      <td>3</td>\n",
       "      <td>4098</td>\n",
       "      <td>43.01</td>\n",
       "      <td>56.99</td>\n",
       "    </tr>\n",
       "    <tr>\n",
       "      <th>homo_Variant 2_CYCS</th>\n",
       "      <td>1943</td>\n",
       "      <td>2</td>\n",
       "      <td>969</td>\n",
       "      <td>3</td>\n",
       "      <td>974</td>\n",
       "      <td>44.00</td>\n",
       "      <td>56.00</td>\n",
       "    </tr>\n",
       "    <tr>\n",
       "      <th>homo_Variant 3_CYCS</th>\n",
       "      <td>1817</td>\n",
       "      <td>3</td>\n",
       "      <td>1018</td>\n",
       "      <td>4</td>\n",
       "      <td>799</td>\n",
       "      <td>45.18</td>\n",
       "      <td>54.82</td>\n",
       "    </tr>\n",
       "    <tr>\n",
       "      <th>homo_Variant 4_CYCS</th>\n",
       "      <td>1545</td>\n",
       "      <td>3</td>\n",
       "      <td>1047</td>\n",
       "      <td>4</td>\n",
       "      <td>498</td>\n",
       "      <td>47.51</td>\n",
       "      <td>52.49</td>\n",
       "    </tr>\n",
       "    <tr>\n",
       "      <th>Zebrasfish_CYCS</th>\n",
       "      <td>5156</td>\n",
       "      <td>4</td>\n",
       "      <td>4384</td>\n",
       "      <td>5</td>\n",
       "      <td>772</td>\n",
       "      <td>33.69</td>\n",
       "      <td>66.31</td>\n",
       "    </tr>\n",
       "  </tbody>\n",
       "</table>\n",
       "</div>"
      ],
      "text/plain": [
       "                     length of the gene  number of introns  length of introns  \\\n",
       "Name                                                                            \n",
       "Chimp_CYCS                         2904                  6               1259   \n",
       "CYCS_dog                           2856                  2               1208   \n",
       "homo_Variant 1_CYCS                5271                  2               1173   \n",
       "homo_Variant 2_CYCS                1943                  2                969   \n",
       "homo_Variant 3_CYCS                1817                  3               1018   \n",
       "homo_Variant 4_CYCS                1545                  3               1047   \n",
       "Zebrasfish_CYCS                    5156                  4               4384   \n",
       "\n",
       "                     number of exons  length of exons  GC content in %  \\\n",
       "Name                                                                     \n",
       "Chimp_CYCS                         7             1645            64.84   \n",
       "CYCS_dog                           3             1648            47.16   \n",
       "homo_Variant 1_CYCS                3             4098            43.01   \n",
       "homo_Variant 2_CYCS                3              974            44.00   \n",
       "homo_Variant 3_CYCS                4              799            45.18   \n",
       "homo_Variant 4_CYCS                4              498            47.51   \n",
       "Zebrasfish_CYCS                    5              772            33.69   \n",
       "\n",
       "                     AT content in %  \n",
       "Name                                  \n",
       "Chimp_CYCS                     35.16  \n",
       "CYCS_dog                       52.84  \n",
       "homo_Variant 1_CYCS            56.99  \n",
       "homo_Variant 2_CYCS            56.00  \n",
       "homo_Variant 3_CYCS            54.82  \n",
       "homo_Variant 4_CYCS            52.49  \n",
       "Zebrasfish_CYCS                66.31  "
      ]
     },
     "execution_count": 13,
     "metadata": {},
     "output_type": "execute_result"
    }
   ],
   "source": [
    "import numpy as np\n",
    "import pandas as pd\n",
    "import matplotlib.pyplot as plt\n",
    "\n",
    "dataresult=pd.read_csv(path+'Results.csv',index_col='Name')\n",
    "\n",
    "dataresult"
   ]
  },
  {
   "cell_type": "code",
   "execution_count": 14,
   "metadata": {},
   "outputs": [
    {
     "data": {
      "text/html": [
       "<div>\n",
       "<style scoped>\n",
       "    .dataframe tbody tr th:only-of-type {\n",
       "        vertical-align: middle;\n",
       "    }\n",
       "\n",
       "    .dataframe tbody tr th {\n",
       "        vertical-align: top;\n",
       "    }\n",
       "\n",
       "    .dataframe thead th {\n",
       "        text-align: right;\n",
       "    }\n",
       "</style>\n",
       "<table border=\"1\" class=\"dataframe\">\n",
       "  <thead>\n",
       "    <tr style=\"text-align: right;\">\n",
       "      <th>Name</th>\n",
       "      <th>Chimp_CYCS</th>\n",
       "      <th>CYCS_dog</th>\n",
       "      <th>homo_Variant 1_CYCS</th>\n",
       "      <th>homo_Variant 2_CYCS</th>\n",
       "      <th>homo_Variant 3_CYCS</th>\n",
       "      <th>homo_Variant 4_CYCS</th>\n",
       "      <th>Zebrasfish_CYCS</th>\n",
       "    </tr>\n",
       "  </thead>\n",
       "  <tbody>\n",
       "    <tr>\n",
       "      <th>length of the gene</th>\n",
       "      <td>2904.00</td>\n",
       "      <td>2856.00</td>\n",
       "      <td>5271.00</td>\n",
       "      <td>1943.0</td>\n",
       "      <td>1817.00</td>\n",
       "      <td>1545.00</td>\n",
       "      <td>5156.00</td>\n",
       "    </tr>\n",
       "    <tr>\n",
       "      <th>number of introns</th>\n",
       "      <td>6.00</td>\n",
       "      <td>2.00</td>\n",
       "      <td>2.00</td>\n",
       "      <td>2.0</td>\n",
       "      <td>3.00</td>\n",
       "      <td>3.00</td>\n",
       "      <td>4.00</td>\n",
       "    </tr>\n",
       "    <tr>\n",
       "      <th>length of introns</th>\n",
       "      <td>1259.00</td>\n",
       "      <td>1208.00</td>\n",
       "      <td>1173.00</td>\n",
       "      <td>969.0</td>\n",
       "      <td>1018.00</td>\n",
       "      <td>1047.00</td>\n",
       "      <td>4384.00</td>\n",
       "    </tr>\n",
       "    <tr>\n",
       "      <th>number of exons</th>\n",
       "      <td>7.00</td>\n",
       "      <td>3.00</td>\n",
       "      <td>3.00</td>\n",
       "      <td>3.0</td>\n",
       "      <td>4.00</td>\n",
       "      <td>4.00</td>\n",
       "      <td>5.00</td>\n",
       "    </tr>\n",
       "    <tr>\n",
       "      <th>length of exons</th>\n",
       "      <td>1645.00</td>\n",
       "      <td>1648.00</td>\n",
       "      <td>4098.00</td>\n",
       "      <td>974.0</td>\n",
       "      <td>799.00</td>\n",
       "      <td>498.00</td>\n",
       "      <td>772.00</td>\n",
       "    </tr>\n",
       "    <tr>\n",
       "      <th>GC content in %</th>\n",
       "      <td>64.84</td>\n",
       "      <td>47.16</td>\n",
       "      <td>43.01</td>\n",
       "      <td>44.0</td>\n",
       "      <td>45.18</td>\n",
       "      <td>47.51</td>\n",
       "      <td>33.69</td>\n",
       "    </tr>\n",
       "    <tr>\n",
       "      <th>AT content in %</th>\n",
       "      <td>35.16</td>\n",
       "      <td>52.84</td>\n",
       "      <td>56.99</td>\n",
       "      <td>56.0</td>\n",
       "      <td>54.82</td>\n",
       "      <td>52.49</td>\n",
       "      <td>66.31</td>\n",
       "    </tr>\n",
       "  </tbody>\n",
       "</table>\n",
       "</div>"
      ],
      "text/plain": [
       "Name                Chimp_CYCS  CYCS_dog  homo_Variant 1_CYCS  \\\n",
       "length of the gene     2904.00   2856.00              5271.00   \n",
       "number of introns         6.00      2.00                 2.00   \n",
       "length of introns      1259.00   1208.00              1173.00   \n",
       "number of exons           7.00      3.00                 3.00   \n",
       "length of exons        1645.00   1648.00              4098.00   \n",
       "GC content in %          64.84     47.16                43.01   \n",
       "AT content in %          35.16     52.84                56.99   \n",
       "\n",
       "Name                homo_Variant 2_CYCS  homo_Variant 3_CYCS  \\\n",
       "length of the gene               1943.0              1817.00   \n",
       "number of introns                   2.0                 3.00   \n",
       "length of introns                 969.0              1018.00   \n",
       "number of exons                     3.0                 4.00   \n",
       "length of exons                   974.0               799.00   \n",
       "GC content in %                    44.0                45.18   \n",
       "AT content in %                    56.0                54.82   \n",
       "\n",
       "Name                homo_Variant 4_CYCS  Zebrasfish_CYCS  \n",
       "length of the gene              1545.00          5156.00  \n",
       "number of introns                  3.00             4.00  \n",
       "length of introns               1047.00          4384.00  \n",
       "number of exons                    4.00             5.00  \n",
       "length of exons                  498.00           772.00  \n",
       "GC content in %                   47.51            33.69  \n",
       "AT content in %                   52.49            66.31  "
      ]
     },
     "execution_count": 14,
     "metadata": {},
     "output_type": "execute_result"
    }
   ],
   "source": [
    "results_transposed=dataresult.T\n",
    "results_transposed"
   ]
  },
  {
   "cell_type": "markdown",
   "metadata": {},
   "source": [
    "### Plotting of the data using matplotlib.pyplot"
   ]
  },
  {
   "cell_type": "code",
   "execution_count": 15,
   "metadata": {},
   "outputs": [
    {
     "data": {
      "text/plain": [
       "Text(0.5,1,'Lengths of the Cytochrome C genes from different species')"
      ]
     },
     "execution_count": 15,
     "metadata": {},
     "output_type": "execute_result"
    },
    {
     "data": {
      "image/png": "[encoded data removed]",
      "text/plain": [
       "<Figure size 576x432 with 1 Axes>"
      ]
     },
     "metadata": {
      "needs_background": "light"
     },
     "output_type": "display_data"
    }
   ],
   "source": [
    "names=['Chimp','Dog','Homo1','Homo2','Homo3','Homo4','Zebrafish']\n",
    "gene_lengths=results_transposed.iloc[0]\n",
    "x_pos=np.arange(len(gene_lengths))\n",
    "\n",
    "plt.figure(figsize=(8,6))\n",
    "\n",
    "plt.bar(x_pos,gene_lengths,align='center',alpha=0.5, color='green')\n",
    "plt.xticks(x_pos,names,rotation=45)\n",
    "plt.ylabel('Length of the gene in bases')\n",
    "plt.xlabel('Species (in case of homo: variants)')\n",
    "plt.title('Lengths of the Cytochrome C genes from different species')"
   ]
  },
  {
   "cell_type": "code",
   "execution_count": 16,
   "metadata": {},
   "outputs": [
    {
     "data": {
      "text/plain": [
       "<function matplotlib.pyplot.show(*args, **kw)>"
      ]
     },
     "execution_count": 16,
     "metadata": {},
     "output_type": "execute_result"
    },
    {
     "data": {
      "image/png": "[encoded data removed]",
      "text/plain": [
       "<Figure size 432x288 with 1 Axes>"
      ]
     },
     "metadata": {
      "needs_background": "light"
     },
     "output_type": "display_data"
    }
   ],
   "source": [
    "number_of_introns=results_transposed.iloc[1]\n",
    "number_of_exons=results_transposed.iloc[3]\n",
    "\n",
    "fig, ax=plt.subplots()\n",
    "index=np.arange(len(number_of_introns))\n",
    "bar_width=0.6\n",
    "\n",
    "introns=plt.bar(names,number_of_introns,bar_width, alpha=0.9,color='blue',label='Introns')\n",
    "exons=plt.bar(names,number_of_exons,bar_width,alpha=0.8,color='yellow',label='Exons')\n",
    "\n",
    "plt.xlabel('Species (in case of homo: variants)')\n",
    "plt.ylabel('Number of introns')\n",
    "plt.title('Number of exons and introns in the cytochrome c gene')\n",
    "plt.xticks(index)\n",
    "plt.legend()\n",
    "\n",
    "plt.tight_layout()\n",
    "plt.show\n"
   ]
  },
  {
   "cell_type": "markdown",
   "metadata": {},
   "source": [
    "### Plotting of the pie charts with pandas"
   ]
  },
  {
   "cell_type": "code",
   "execution_count": 34,
   "metadata": {},
   "outputs": [],
   "source": [
    "dict_gc_at={key:[dict_cycs[key][5],dict_cycs[key][6]] for key in dict_cycs}\n",
    "df_gc_at=pd.DataFrame(dict_gc_at, index=['GC content in %','AT content in %'])"
   ]
  },
  {
   "cell_type": "code",
   "execution_count": 35,
   "metadata": {},
   "outputs": [
    {
     "data": {
      "text/html": [
       "<div>\n",
       "<style scoped>\n",
       "    .dataframe tbody tr th:only-of-type {\n",
       "        vertical-align: middle;\n",
       "    }\n",
       "\n",
       "    .dataframe tbody tr th {\n",
       "        vertical-align: top;\n",
       "    }\n",
       "\n",
       "    .dataframe thead th {\n",
       "        text-align: right;\n",
       "    }\n",
       "</style>\n",
       "<table border=\"1\" class=\"dataframe\">\n",
       "  <thead>\n",
       "    <tr style=\"text-align: right;\">\n",
       "      <th></th>\n",
       "      <th>Chimp_CYCS</th>\n",
       "      <th>CYCS_dog</th>\n",
       "      <th>homo_Variant 1_CYCS</th>\n",
       "      <th>homo_Variant 2_CYCS</th>\n",
       "      <th>homo_Variant 3_CYCS</th>\n",
       "      <th>homo_Variant 4_CYCS</th>\n",
       "      <th>Zebrasfish_CYCS</th>\n",
       "    </tr>\n",
       "  </thead>\n",
       "  <tbody>\n",
       "    <tr>\n",
       "      <th>GC content in %</th>\n",
       "      <td>64.84</td>\n",
       "      <td>47.16</td>\n",
       "      <td>43.01</td>\n",
       "      <td>44.0</td>\n",
       "      <td>45.18</td>\n",
       "      <td>47.51</td>\n",
       "      <td>33.69</td>\n",
       "    </tr>\n",
       "    <tr>\n",
       "      <th>AT content in %</th>\n",
       "      <td>35.16</td>\n",
       "      <td>52.84</td>\n",
       "      <td>56.99</td>\n",
       "      <td>56.0</td>\n",
       "      <td>54.82</td>\n",
       "      <td>52.49</td>\n",
       "      <td>66.31</td>\n",
       "    </tr>\n",
       "  </tbody>\n",
       "</table>\n",
       "</div>"
      ],
      "text/plain": [
       "                 Chimp_CYCS  CYCS_dog  homo_Variant 1_CYCS  \\\n",
       "GC content in %       64.84     47.16                43.01   \n",
       "AT content in %       35.16     52.84                56.99   \n",
       "\n",
       "                 homo_Variant 2_CYCS  homo_Variant 3_CYCS  \\\n",
       "GC content in %                 44.0                45.18   \n",
       "AT content in %                 56.0                54.82   \n",
       "\n",
       "                 homo_Variant 4_CYCS  Zebrasfish_CYCS  \n",
       "GC content in %                47.51            33.69  \n",
       "AT content in %                52.49            66.31  "
      ]
     },
     "execution_count": 35,
     "metadata": {},
     "output_type": "execute_result"
    }
   ],
   "source": [
    "df_gc_at"
   ]
  },
  {
   "cell_type": "code",
   "execution_count": 42,
   "metadata": {},
   "outputs": [
    {
     "data": {
      "image/png": "[encoded data removed]",
      "text/plain": [
       "<Figure size 1440x720 with 8 Axes>"
      ]
     },
     "metadata": {
      "needs_background": "light"
     },
     "output_type": "display_data"
    }
   ],
   "source": [
    "pie_plot=df_gc_at.plot.pie(subplots=True,figsize=(20,10),layout=(2,4),colors=['gold','pink'])"
   ]
  },
  {
   "cell_type": "code",
   "execution_count": null,
   "metadata": {},
   "outputs": [],
   "source": []
  }
 ],
 "metadata": {
  "kernelspec": {
   "display_name": "Python 3",
   "language": "python",
   "name": "python3"
  },
  "language_info": {
   "codemirror_mode": {
    "name": "ipython",
    "version": 3
   },
   "file_extension": ".py",
   "mimetype": "text/x-python",
   "name": "python",
   "nbconvert_exporter": "python",
   "pygments_lexer": "ipython3",
   "version": "3.7.0"
  }
 },
 "nbformat": 4,
 "nbformat_minor": 2
}
