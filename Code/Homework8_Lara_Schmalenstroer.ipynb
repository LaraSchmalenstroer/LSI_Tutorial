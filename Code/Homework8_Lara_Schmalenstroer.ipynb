{
 "cells": [
  {
   "cell_type": "markdown",
   "metadata": {},
   "source": [
    "# Project 8 \n",
    "\n",
    "## Lara Schmalenstroer \n",
    "\n",
    "\n",
    "### Count all the trimers in the sent files: Create the trimers moving one base forward on the respective DNA strand. Example DNA strand: ATGGTC - trimers: ATG, TGG, GGT, GTC\n",
    "\n",
    "### 8.1 Within each sent file\n",
    "### 8.3 Print the result on the screen\n",
    "### 8.4 Write the result (kmer count) with a cutoff of 80 bases from 7.1 into one file (how many trimers are there in total with this cutoff?)"
   ]
  },
  {
   "cell_type": "code",
   "execution_count": 3,
   "metadata": {},
   "outputs": [],
   "source": [
    "def get_trimer_count(path_to_sequence, cutoff=0):\n",
    "    kmer_len=3\n",
    "    bases=['A','C','G','T']\n",
    "    trimers=[base1+base2+base3 for base1 in bases for base2 in bases for base3 in bases]\n",
    "    trimer_count={trimer:0 for trimer in trimers}\n",
    "    file=path_to_sequence\n",
    "    with open(file,'r') as f1:\n",
    "        dna=f1.read().replace('\\n','').upper()\n",
    "    for i in range(len(dna)-kmer_len+1):\n",
    "        trip=dna[i:i+3]\n",
    "        trimer_count[trip]+=1\n",
    "    count={key:trimer_count[key] for key in trimer_count if trimer_count[key]>cutoff}\n",
    "    return count"
   ]
  },
  {
   "cell_type": "code",
   "execution_count": 4,
   "metadata": {},
   "outputs": [
    {
     "data": {
      "text/plain": [
       "{'AAA': 63,\n",
       " 'AAC': 68,\n",
       " 'AAG': 61,\n",
       " 'AAT': 59,\n",
       " 'ACA': 54,\n",
       " 'ACC': 65,\n",
       " 'ACG': 68,\n",
       " 'ACT': 73,\n",
       " 'AGA': 58,\n",
       " 'AGC': 78,\n",
       " 'AGG': 59,\n",
       " 'AGT': 51,\n",
       " 'ATA': 68,\n",
       " 'ATC': 61,\n",
       " 'ATG': 57,\n",
       " 'ATT': 64,\n",
       " 'CAA': 58,\n",
       " 'CAC': 57,\n",
       " 'CAG': 57,\n",
       " 'CAT': 62,\n",
       " 'CCA': 57,\n",
       " 'CCC': 51,\n",
       " 'CCG': 70,\n",
       " 'CCT': 61,\n",
       " 'CGA': 62,\n",
       " 'CGC': 70,\n",
       " 'CGG': 72,\n",
       " 'CGT': 70,\n",
       " 'CTA': 76,\n",
       " 'CTC': 65,\n",
       " 'CTG': 68,\n",
       " 'CTT': 52,\n",
       " 'GAA': 64,\n",
       " 'GAC': 61,\n",
       " 'GAG': 60,\n",
       " 'GAT': 62,\n",
       " 'GCA': 56,\n",
       " 'GCC': 57,\n",
       " 'GCG': 69,\n",
       " 'GCT': 60,\n",
       " 'GGA': 68,\n",
       " 'GGC': 47,\n",
       " 'GGG': 60,\n",
       " 'GGT': 75,\n",
       " 'GTA': 63,\n",
       " 'GTC': 76,\n",
       " 'GTG': 63,\n",
       " 'GTT': 67,\n",
       " 'TAA': 66,\n",
       " 'TAC': 74,\n",
       " 'TAG': 68,\n",
       " 'TAT': 68,\n",
       " 'TCA': 67,\n",
       " 'TCC': 66,\n",
       " 'TCG': 67,\n",
       " 'TCT': 66,\n",
       " 'TGA': 59,\n",
       " 'TGC': 47,\n",
       " 'TGG': 59,\n",
       " 'TGT': 73,\n",
       " 'TTA': 69,\n",
       " 'TTC': 64,\n",
       " 'TTG': 50,\n",
       " 'TTT': 57}"
      ]
     },
     "execution_count": 4,
     "metadata": {},
     "output_type": "execute_result"
    }
   ],
   "source": [
    "get_trimer_count(\"xaa.dna\")"
   ]
  },
  {
   "cell_type": "code",
   "execution_count": 5,
   "metadata": {},
   "outputs": [],
   "source": [
    "dict_names={}\n",
    "dict_names[0]=\"xaa.dna\"\n",
    "dict_names[1]=\"xab.dna\"\n",
    "dict_names[2]=\"xac.dna\"\n",
    "dict_names[3]=\"xad.dna\"\n",
    "dict_names[4]=\"xae.dna\"\n",
    "dict_names[5]=\"xaf.dna\"\n",
    "dict_names[6]=\"xag.dna\"\n",
    "dict_names[7]=\"xah.dna\"\n",
    "dict_names[8]=\"xai.dna\"\n",
    "dict_names[9]=\"xaj.dna\"\n",
    "dict_names[10]=\"xaz.dna\""
   ]
  },
  {
   "cell_type": "code",
   "execution_count": 6,
   "metadata": {},
   "outputs": [
    {
     "data": {
      "text/plain": [
       "{0: 'xaa.dna',\n",
       " 1: 'xab.dna',\n",
       " 2: 'xac.dna',\n",
       " 3: 'xad.dna',\n",
       " 4: 'xae.dna',\n",
       " 5: 'xaf.dna',\n",
       " 6: 'xag.dna',\n",
       " 7: 'xah.dna',\n",
       " 8: 'xai.dna',\n",
       " 9: 'xaj.dna',\n",
       " 10: 'xaz.dna'}"
      ]
     },
     "execution_count": 6,
     "metadata": {},
     "output_type": "execute_result"
    }
   ],
   "source": [
    "dict_names"
   ]
  },
  {
   "cell_type": "code",
   "execution_count": 15,
   "metadata": {},
   "outputs": [
    {
     "name": "stdout",
     "output_type": "stream",
     "text": [
      "xaa.dna\n",
      "{}\n",
      "xab.dna\n",
      "{'AAA': 96, 'AAC': 108, 'AAG': 96, 'AAT': 105, 'ACA': 106, 'ACC': 104, 'ACG': 93, 'ACT': 108, 'AGA': 105, 'AGC': 98, 'AGG': 113, 'AGT': 89, 'ATA': 119, 'ATC': 111, 'ATG': 90, 'ATT': 103, 'CAA': 93, 'CAC': 102, 'CAG': 91, 'CAT': 97, 'CCA': 84, 'CCC': 118, 'CCG': 123, 'CCT': 95, 'CGA': 117, 'CGC': 88, 'CGG': 121, 'CGT': 93, 'CTA': 91, 'CTC': 120, 'CTG': 97, 'CTT': 113, 'GAA': 108, 'GAC': 105, 'GAG': 106, 'GAT': 122, 'GCA': 99, 'GCC': 93, 'GCG': 108, 'GCT': 98, 'GGA': 109, 'GGC': 109, 'GGG': 101, 'GGT': 104, 'GTA': 95, 'GTC': 85, 'GTG': 96, 'GTT': 106, 'TAA': 108, 'TAC': 96, 'TAG': 112, 'TAT': 99, 'TCA': 94, 'TCC': 105, 'TCG': 95, 'TCT': 120, 'TGA': 110, 'TGC': 103, 'TGG': 87, 'TGT': 96, 'TTA': 110, 'TTC': 99, 'TTG': 113, 'TTT': 113}\n",
      "xac.dna\n",
      "{'AAA': 90, 'AAC': 91, 'AAT': 94, 'ACC': 92, 'ACG': 91, 'AGC': 101, 'AGG': 94, 'AGT': 82, 'ATC': 93, 'ATG': 91, 'ATT': 86, 'CAA': 89, 'CAC': 84, 'CAG': 94, 'CAT': 96, 'CCA': 89, 'CCG': 82, 'CCT': 90, 'CGC': 83, 'CGG': 83, 'CGT': 109, 'CTA': 83, 'CTG': 82, 'CTT': 94, 'GAC': 83, 'GAG': 90, 'GCA': 95, 'GCC': 88, 'GCT': 94, 'GGA': 99, 'GGC': 82, 'GGT': 90, 'GTA': 105, 'GTC': 92, 'GTT': 86, 'TAA': 98, 'TAG': 86, 'TAT': 84, 'TCA': 103, 'TCC': 81, 'TCG': 102, 'TGC': 88, 'TGG': 94, 'TTC': 103, 'TTG': 87, 'TTT': 96}\n",
      "xad.dna\n",
      "{'AAA': 83, 'AAG': 81, 'AAT': 95, 'ACC': 81, 'AGA': 88, 'AGC': 93, 'ATC': 92, 'ATG': 93, 'ATT': 91, 'CAA': 85, 'CAC': 90, 'CAT': 81, 'CCA': 84, 'CCT': 97, 'CGA': 89, 'CGG': 82, 'CTC': 85, 'CTG': 95, 'CTT': 88, 'GAA': 88, 'GAG': 94, 'GAT': 98, 'GCA': 83, 'GCC': 100, 'GCG': 82, 'GCT': 81, 'GGA': 86, 'GGC': 94, 'GTG': 86, 'GTT': 81, 'TAG': 83, 'TCA': 91, 'TCG': 87, 'TCT': 85, 'TGA': 94, 'TGC': 84, 'TGG': 86, 'TGT': 90, 'TTA': 85, 'TTC': 95, 'TTT': 83}\n",
      "xae.dna\n",
      "{'AAA': 93, 'AAC': 102, 'AAG': 94, 'AAT': 113, 'ACA': 113, 'ACC': 100, 'ACG': 96, 'ACT': 101, 'AGA': 102, 'AGC': 90, 'AGG': 112, 'AGT': 101, 'ATA': 102, 'ATC': 108, 'ATG': 128, 'ATT': 95, 'CAA': 110, 'CAC': 115, 'CAG': 124, 'CAT': 104, 'CCA': 123, 'CCC': 106, 'CCG': 88, 'CCT': 99, 'CGA': 81, 'CGC': 90, 'CGG': 94, 'CGT': 95, 'CTA': 106, 'CTC': 105, 'CTG': 117, 'CTT': 91, 'GAA': 101, 'GAC': 85, 'GAG': 88, 'GAT': 115, 'GCA': 97, 'GCC': 109, 'GCG': 87, 'GCT': 108, 'GGA': 106, 'GGC': 108, 'GGG': 103, 'GGT': 117, 'GTA': 102, 'GTC': 106, 'GTG': 104, 'GTT': 114, 'TAA': 98, 'TAC': 108, 'TAG': 99, 'TAT': 101, 'TCA': 119, 'TCC': 102, 'TCG': 89, 'TCT': 111, 'TGA': 100, 'TGC': 113, 'TGG': 125, 'TGT': 113, 'TTA': 96, 'TTC': 102, 'TTG': 102, 'TTT': 88}\n",
      "xaf.dna\n",
      "{'AAC': 86, 'ACA': 83, 'ACG': 95, 'AGA': 86, 'AGC': 82, 'AGG': 86, 'ATC': 84, 'ATT': 85, 'CAG': 87, 'CAT': 87, 'CCA': 86, 'CCT': 81, 'CTT': 90, 'GAG': 93, 'GCC': 84, 'GCT': 82, 'GGG': 85, 'GTA': 83, 'GTG': 84, 'TAC': 85, 'TCT': 92, 'TGA': 83, 'TGT': 89, 'TTC': 89, 'TTG': 84}\n",
      "xag.dna\n",
      "{'AAG': 84, 'ACG': 82, 'AGA': 85, 'AGT': 87, 'ATA': 82, 'ATT': 90, 'CAC': 89, 'CCT': 81, 'CGA': 83, 'CGC': 95, 'CGT': 88, 'CTG': 83, 'CTT': 92, 'GAG': 88, 'GAT': 88, 'GCA': 85, 'GCG': 102, 'GCT': 81, 'GGC': 81, 'GTC': 87, 'GTG': 82, 'TAA': 99, 'TAG': 81, 'TCA': 85, 'TCG': 82, 'TCT': 85, 'TGC': 83, 'TTA': 96, 'TTC': 87}\n",
      "xah.dna\n",
      "{'AAC': 86, 'AAT': 85, 'ACA': 88, 'ACC': 91, 'AGA': 84, 'AGC': 101, 'AGG': 91, 'AGT': 84, 'ATA': 93, 'ATC': 104, 'ATG': 86, 'ATT': 97, 'CAA': 93, 'CAC': 88, 'CAG': 86, 'CAT': 88, 'CCA': 87, 'CCG': 101, 'CCT': 86, 'CGA': 97, 'CGC': 88, 'CGG': 81, 'CGT': 95, 'CTC': 88, 'CTG': 88, 'CTT': 85, 'GAG': 101, 'GAT': 110, 'GCA': 95, 'GCG': 91, 'GGA': 101, 'GGG': 81, 'GGT': 98, 'GTA': 87, 'GTC': 95, 'GTT': 94, 'TAC': 85, 'TAG': 93, 'TAT': 97, 'TCA': 85, 'TCC': 105, 'TCG': 94, 'TCT': 100, 'TGA': 83, 'TGC': 81, 'TGG': 94, 'TTA': 97, 'TTC': 97, 'TTG': 82}\n",
      "xai.dna\n",
      "{'AAA': 93, 'AAC': 96, 'ACC': 86, 'ACG': 92, 'AGC': 83, 'AGT': 85, 'CAA': 84, 'CCG': 86, 'CCT': 93, 'CGC': 83, 'CGG': 92, 'CTA': 101, 'CTC': 83, 'GAA': 83, 'GAC': 95, 'GCA': 82, 'GCC': 87, 'GGA': 90, 'GGT': 83, 'GTG': 82, 'GTT': 106, 'TAA': 85, 'TAG': 86, 'TAT': 81, 'TCC': 85, 'TCT': 88, 'TGA': 90, 'TGC': 87, 'TGT': 82, 'TTC': 83, 'TTG': 105, 'TTT': 84}\n",
      "xaj.dna\n",
      "{'AAA': 89, 'AAC': 91, 'AAG': 111, 'AAT': 87, 'ACA': 101, 'ACC': 88, 'ACG': 97, 'ACT': 93, 'AGA': 82, 'AGC': 98, 'AGG': 89, 'AGT': 98, 'ATA': 82, 'ATC': 105, 'ATG': 97, 'ATT': 101, 'CAA': 82, 'CAC': 107, 'CAG': 86, 'CAT': 113, 'CCC': 92, 'CCG': 93, 'CCT': 96, 'CGA': 92, 'CGC': 107, 'CGG': 99, 'CGT': 90, 'CTA': 104, 'CTC': 94, 'CTG': 99, 'CTT': 93, 'GAA': 111, 'GAC': 94, 'GAG': 91, 'GAT': 89, 'GCA': 110, 'GCC': 86, 'GCG': 95, 'GCT': 108, 'GGA': 101, 'GGC': 104, 'GGG': 82, 'GTA': 87, 'GTC': 82, 'GTG': 87, 'GTT': 103, 'TAA': 95, 'TAC': 87, 'TAT': 96, 'TCA': 114, 'TCG': 103, 'TCT': 93, 'TGA': 110, 'TGC': 90, 'TGG': 96, 'TGT': 92, 'TTA': 85, 'TTC': 107, 'TTG': 105, 'TTT': 90}\n",
      "xaz.dna\n",
      "{}\n"
     ]
    }
   ],
   "source": [
    "dict_count={}\n",
    "for key in dict_names:\n",
    "    filename=dict_names[key]\n",
    "    cutoff=80\n",
    "    #dict_count[filename]=get_trimer_count(filename, cutoff=80)\n",
    "    dictc=get_trimer_count(filename,cutoff=cutoff)\n",
    "    print(filename)\n",
    "    print(dictc)\n",
    "    with open('output_cutoff80.txt','a') as out:\n",
    "        if len(dictc)!=0:\n",
    "            out.write(filename+'\\n')\n",
    "            for key in dictc:\n",
    "                out.write(key+': '+str(dictc[key])+', ')\n",
    "            out.write('\\nNumber of trimers greater than cutoff: '+str(len(dictc))+'\\n')\n",
    "            out.write('\\n\\n')\n",
    "        else:\n",
    "            out.write(filename+'\\nno trimers with a count higher than '+str(cutoff)+'\\n\\n')\n",
    "        \n",
    "#print(dict_count)"
   ]
  },
  {
   "cell_type": "markdown",
   "metadata": {},
   "source": [
    "### 8.2 Across all sent files\n",
    "### 8.3 Print the result on the screen\n",
    "### 8.5 Write the result (kmer count) a cutoff of 900 bases from 7.2 into another file"
   ]
  },
  {
   "cell_type": "code",
   "execution_count": 9,
   "metadata": {},
   "outputs": [],
   "source": [
    "def sum_trimer_count(files,cutoff=0):\n",
    "    trimer_count={trimer:0 for trimer in trimers}\n",
    "    kmer_len=3\n",
    "    for key in files:\n",
    "        filename=files[key]\n",
    "        with open(filename,'r') as f2:\n",
    "            dna_all=f2.read().replace('\\n','').upper()\n",
    "        for i in range(len(dna_all)-kmer_len+1):\n",
    "            kmer=dna_all[i:i+3]\n",
    "            trimer_count[kmer]+=1\n",
    "    trimer_overall={key:trimer_count[key] for key in trimer_count if trimer_count[key]>900}\n",
    "    return trimer_overall"
   ]
  },
  {
   "cell_type": "code",
   "execution_count": 11,
   "metadata": {},
   "outputs": [
    {
     "name": "stdout",
     "output_type": "stream",
     "text": [
      "{'ATC': 909, 'GAT': 904, 'GGA': 914, 'GTT': 907, 'TCA': 903, 'TCT': 914, 'TTC': 926}\n"
     ]
    }
   ],
   "source": [
    "count_overall=sum_trimer_count(dict_names,cutoff=900)\n",
    "print(count_overall)"
   ]
  },
  {
   "cell_type": "code",
   "execution_count": 12,
   "metadata": {},
   "outputs": [],
   "source": [
    "with open('output_count900.txt','w') as output:\n",
    "    output.write('Trimers with a count greater than the cutoff value:\\n')\n",
    "    for key in count_overall:\n",
    "        output.write(key+':\\t'+str(count_overall[key])+'\\n')"
   ]
  },
  {
   "cell_type": "markdown",
   "metadata": {},
   "source": [
    "### 8.6 Automate the processing of the sent files! You click the run-button and then all files should be processed one by one. Do not open all input files at the same time! Open them one by one and process them one by one."
   ]
  },
  {
   "cell_type": "markdown",
   "metadata": {},
   "source": [
    "#### 1. Processing each file with a cutoff of 80"
   ]
  },
  {
   "cell_type": "code",
   "execution_count": 16,
   "metadata": {},
   "outputs": [],
   "source": [
    "import os, glob\n",
    "\n",
    "path='C:\\\\Users\\\\Lara\\\\LSITutorial\\\\'\n",
    "os.chdir(path)\n",
    "cutoff=80\n",
    "for file in glob.glob('*.dna'):\n",
    "    count_trimers=get_trimer_count(file, cutoff=cutoff)\n",
    "    with open('cutoff80.txt','a') as cut80:\n",
    "        if len(count_trimers)!=0:\n",
    "            cut80.write(file+'\\n')\n",
    "            for key in count_trimers:\n",
    "                cut80.write(key+': '+str(count_trimers[key])+', ')\n",
    "            cut80.write('\\nNumber of trimers greater than cutoff: '+str(len(count_trimers))+'\\n')\n",
    "            cut80.write('\\n\\n')\n",
    "        else:\n",
    "            cut80.write(file+'\\nno trimers with a count higher than '+str(cutoff)+'\\n\\n')\n",
    "        \n",
    "    "
   ]
  },
  {
   "cell_type": "markdown",
   "metadata": {},
   "source": [
    "#### 2. Processing each files with an overall cutoff of 900"
   ]
  },
  {
   "cell_type": "code",
   "execution_count": 21,
   "metadata": {},
   "outputs": [],
   "source": [
    "import os, glob\n",
    "\n",
    "kmer_len=3\n",
    "bases=['A','C','G','T']\n",
    "trimers=[base1+base2+base3 for base1 in bases for base2 in bases for base3 in bases]\n",
    "dict_count={trimer:0 for trimer in trimers}\n",
    "path='C:\\\\Users\\\\Lara\\\\LSITutorial\\\\'\n",
    "os.chdir(path)\n",
    "cutoff=0\n",
    "for file in glob.glob('*.dna'):\n",
    "    count_trimers=get_trimer_count(file, cutoff=cutoff)\n",
    "    for key in count_trimers:\n",
    "        dict_count[key]+=count_trimers[key]\n",
    "#cutoff900={key:dict_count[key] for key in dict_count if dict_count[key]>900}\n",
    "with open('count900.txt','w') as cut900:\n",
    "    cut900.write('Trimers with a count greater than the cutoff value:\\n')\n",
    "    for key in dict_count:\n",
    "        if dict_count[key]>900:\n",
    "            cut900.write(key+':\\t'+str(dict_count[key])+'\\n')"
   ]
  },
  {
   "cell_type": "markdown",
   "metadata": {},
   "source": [
    "### 8.7 Generate all possible trimers out of the bases A, C, G, T\n",
    "### 8.8 Generate all possible tetramers out of the bases A, C, G, T\n",
    "### 8.9 Name at least two approaches to accomplish 7.6 and 7.7.\n",
    "### 8.10 Could you imagine a third approach? If so, which one?"
   ]
  },
  {
   "cell_type": "markdown",
   "metadata": {},
   "source": [
    "#### 1. Possibility: list comprehensions"
   ]
  },
  {
   "cell_type": "code",
   "execution_count": 33,
   "metadata": {},
   "outputs": [],
   "source": [
    "bases=['A','C','G','T']\n",
    "pos_trimers=[base1+base2+base3 for base1 in bases for base2 in bases for base3 in bases]\n",
    "pos_tetramers=[base1+base2+base3+base4 for base1 in bases for base2 in bases for base3 in bases for base4 in bases]"
   ]
  },
  {
   "cell_type": "code",
   "execution_count": 34,
   "metadata": {},
   "outputs": [
    {
     "name": "stdout",
     "output_type": "stream",
     "text": [
      "['AAAA', 'AAAC', 'AAAG', 'AAAT', 'AACA', 'AACC', 'AACG', 'AACT', 'AAGA', 'AAGC', 'AAGG', 'AAGT', 'AATA', 'AATC', 'AATG', 'AATT', 'ACAA', 'ACAC', 'ACAG', 'ACAT', 'ACCA', 'ACCC', 'ACCG', 'ACCT', 'ACGA', 'ACGC', 'ACGG', 'ACGT', 'ACTA', 'ACTC', 'ACTG', 'ACTT', 'AGAA', 'AGAC', 'AGAG', 'AGAT', 'AGCA', 'AGCC', 'AGCG', 'AGCT', 'AGGA', 'AGGC', 'AGGG', 'AGGT', 'AGTA', 'AGTC', 'AGTG', 'AGTT', 'ATAA', 'ATAC', 'ATAG', 'ATAT', 'ATCA', 'ATCC', 'ATCG', 'ATCT', 'ATGA', 'ATGC', 'ATGG', 'ATGT', 'ATTA', 'ATTC', 'ATTG', 'ATTT', 'CAAA', 'CAAC', 'CAAG', 'CAAT', 'CACA', 'CACC', 'CACG', 'CACT', 'CAGA', 'CAGC', 'CAGG', 'CAGT', 'CATA', 'CATC', 'CATG', 'CATT', 'CCAA', 'CCAC', 'CCAG', 'CCAT', 'CCCA', 'CCCC', 'CCCG', 'CCCT', 'CCGA', 'CCGC', 'CCGG', 'CCGT', 'CCTA', 'CCTC', 'CCTG', 'CCTT', 'CGAA', 'CGAC', 'CGAG', 'CGAT', 'CGCA', 'CGCC', 'CGCG', 'CGCT', 'CGGA', 'CGGC', 'CGGG', 'CGGT', 'CGTA', 'CGTC', 'CGTG', 'CGTT', 'CTAA', 'CTAC', 'CTAG', 'CTAT', 'CTCA', 'CTCC', 'CTCG', 'CTCT', 'CTGA', 'CTGC', 'CTGG', 'CTGT', 'CTTA', 'CTTC', 'CTTG', 'CTTT', 'GAAA', 'GAAC', 'GAAG', 'GAAT', 'GACA', 'GACC', 'GACG', 'GACT', 'GAGA', 'GAGC', 'GAGG', 'GAGT', 'GATA', 'GATC', 'GATG', 'GATT', 'GCAA', 'GCAC', 'GCAG', 'GCAT', 'GCCA', 'GCCC', 'GCCG', 'GCCT', 'GCGA', 'GCGC', 'GCGG', 'GCGT', 'GCTA', 'GCTC', 'GCTG', 'GCTT', 'GGAA', 'GGAC', 'GGAG', 'GGAT', 'GGCA', 'GGCC', 'GGCG', 'GGCT', 'GGGA', 'GGGC', 'GGGG', 'GGGT', 'GGTA', 'GGTC', 'GGTG', 'GGTT', 'GTAA', 'GTAC', 'GTAG', 'GTAT', 'GTCA', 'GTCC', 'GTCG', 'GTCT', 'GTGA', 'GTGC', 'GTGG', 'GTGT', 'GTTA', 'GTTC', 'GTTG', 'GTTT', 'TAAA', 'TAAC', 'TAAG', 'TAAT', 'TACA', 'TACC', 'TACG', 'TACT', 'TAGA', 'TAGC', 'TAGG', 'TAGT', 'TATA', 'TATC', 'TATG', 'TATT', 'TCAA', 'TCAC', 'TCAG', 'TCAT', 'TCCA', 'TCCC', 'TCCG', 'TCCT', 'TCGA', 'TCGC', 'TCGG', 'TCGT', 'TCTA', 'TCTC', 'TCTG', 'TCTT', 'TGAA', 'TGAC', 'TGAG', 'TGAT', 'TGCA', 'TGCC', 'TGCG', 'TGCT', 'TGGA', 'TGGC', 'TGGG', 'TGGT', 'TGTA', 'TGTC', 'TGTG', 'TGTT', 'TTAA', 'TTAC', 'TTAG', 'TTAT', 'TTCA', 'TTCC', 'TTCG', 'TTCT', 'TTGA', 'TTGC', 'TTGG', 'TTGT', 'TTTA', 'TTTC', 'TTTG', 'TTTT']\n"
     ]
    }
   ],
   "source": [
    "print(pos_tetramers)"
   ]
  },
  {
   "cell_type": "markdown",
   "metadata": {},
   "source": [
    "#### 2. Possibility: use itertools"
   ]
  },
  {
   "cell_type": "code",
   "execution_count": 5,
   "metadata": {},
   "outputs": [
    {
     "name": "stdout",
     "output_type": "stream",
     "text": [
      "['AAA', 'AAC', 'AAG', 'AAT', 'ACA', 'ACC', 'ACG', 'ACT', 'AGA', 'AGC', 'AGG', 'AGT', 'ATA', 'ATC', 'ATG', 'ATT', 'CAA', 'CAC', 'CAG', 'CAT', 'CCA', 'CCC', 'CCG', 'CCT', 'CGA', 'CGC', 'CGG', 'CGT', 'CTA', 'CTC', 'CTG', 'CTT', 'GAA', 'GAC', 'GAG', 'GAT', 'GCA', 'GCC', 'GCG', 'GCT', 'GGA', 'GGC', 'GGG', 'GGT', 'GTA', 'GTC', 'GTG', 'GTT', 'TAA', 'TAC', 'TAG', 'TAT', 'TCA', 'TCC', 'TCG', 'TCT', 'TGA', 'TGC', 'TGG', 'TGT', 'TTA', 'TTC', 'TTG', 'TTT']\n"
     ]
    }
   ],
   "source": [
    "import itertools\n",
    "bases=['A','C','G','T']\n",
    "list_trimers=[]\n",
    "prod_bases=itertools.product(bases,repeat=3)\n",
    "for i in prod_bases:\n",
    "    list_trimers.append(i)\n",
    "\n",
    "trim=[''.join(element) for element in list_trimers]\n",
    "\n",
    "print(trim)"
   ]
  },
  {
   "cell_type": "code",
   "execution_count": 61,
   "metadata": {},
   "outputs": [
    {
     "name": "stdout",
     "output_type": "stream",
     "text": [
      "['AAAA', 'AAAC', 'AAAG', 'AAAT', 'AACA', 'AACC', 'AACG', 'AACT', 'AAGA', 'AAGC', 'AAGG', 'AAGT', 'AATA', 'AATC', 'AATG', 'AATT', 'ACAA', 'ACAC', 'ACAG', 'ACAT', 'ACCA', 'ACCC', 'ACCG', 'ACCT', 'ACGA', 'ACGC', 'ACGG', 'ACGT', 'ACTA', 'ACTC', 'ACTG', 'ACTT', 'AGAA', 'AGAC', 'AGAG', 'AGAT', 'AGCA', 'AGCC', 'AGCG', 'AGCT', 'AGGA', 'AGGC', 'AGGG', 'AGGT', 'AGTA', 'AGTC', 'AGTG', 'AGTT', 'ATAA', 'ATAC', 'ATAG', 'ATAT', 'ATCA', 'ATCC', 'ATCG', 'ATCT', 'ATGA', 'ATGC', 'ATGG', 'ATGT', 'ATTA', 'ATTC', 'ATTG', 'ATTT', 'CAAA', 'CAAC', 'CAAG', 'CAAT', 'CACA', 'CACC', 'CACG', 'CACT', 'CAGA', 'CAGC', 'CAGG', 'CAGT', 'CATA', 'CATC', 'CATG', 'CATT', 'CCAA', 'CCAC', 'CCAG', 'CCAT', 'CCCA', 'CCCC', 'CCCG', 'CCCT', 'CCGA', 'CCGC', 'CCGG', 'CCGT', 'CCTA', 'CCTC', 'CCTG', 'CCTT', 'CGAA', 'CGAC', 'CGAG', 'CGAT', 'CGCA', 'CGCC', 'CGCG', 'CGCT', 'CGGA', 'CGGC', 'CGGG', 'CGGT', 'CGTA', 'CGTC', 'CGTG', 'CGTT', 'CTAA', 'CTAC', 'CTAG', 'CTAT', 'CTCA', 'CTCC', 'CTCG', 'CTCT', 'CTGA', 'CTGC', 'CTGG', 'CTGT', 'CTTA', 'CTTC', 'CTTG', 'CTTT', 'GAAA', 'GAAC', 'GAAG', 'GAAT', 'GACA', 'GACC', 'GACG', 'GACT', 'GAGA', 'GAGC', 'GAGG', 'GAGT', 'GATA', 'GATC', 'GATG', 'GATT', 'GCAA', 'GCAC', 'GCAG', 'GCAT', 'GCCA', 'GCCC', 'GCCG', 'GCCT', 'GCGA', 'GCGC', 'GCGG', 'GCGT', 'GCTA', 'GCTC', 'GCTG', 'GCTT', 'GGAA', 'GGAC', 'GGAG', 'GGAT', 'GGCA', 'GGCC', 'GGCG', 'GGCT', 'GGGA', 'GGGC', 'GGGG', 'GGGT', 'GGTA', 'GGTC', 'GGTG', 'GGTT', 'GTAA', 'GTAC', 'GTAG', 'GTAT', 'GTCA', 'GTCC', 'GTCG', 'GTCT', 'GTGA', 'GTGC', 'GTGG', 'GTGT', 'GTTA', 'GTTC', 'GTTG', 'GTTT', 'TAAA', 'TAAC', 'TAAG', 'TAAT', 'TACA', 'TACC', 'TACG', 'TACT', 'TAGA', 'TAGC', 'TAGG', 'TAGT', 'TATA', 'TATC', 'TATG', 'TATT', 'TCAA', 'TCAC', 'TCAG', 'TCAT', 'TCCA', 'TCCC', 'TCCG', 'TCCT', 'TCGA', 'TCGC', 'TCGG', 'TCGT', 'TCTA', 'TCTC', 'TCTG', 'TCTT', 'TGAA', 'TGAC', 'TGAG', 'TGAT', 'TGCA', 'TGCC', 'TGCG', 'TGCT', 'TGGA', 'TGGC', 'TGGG', 'TGGT', 'TGTA', 'TGTC', 'TGTG', 'TGTT', 'TTAA', 'TTAC', 'TTAG', 'TTAT', 'TTCA', 'TTCC', 'TTCG', 'TTCT', 'TTGA', 'TTGC', 'TTGG', 'TTGT', 'TTTA', 'TTTC', 'TTTG', 'TTTT']\n"
     ]
    }
   ],
   "source": [
    "import itertools\n",
    "bases=['A','C','G','T']\n",
    "list_tetramers=[]\n",
    "prod_bases4=itertools.product(bases,repeat=4)\n",
    "for i in prod_bases4:\n",
    "    list_tetramers.append(i)\n",
    "\n",
    "tetra=[''.join(element) for element in list_tetramers]\n",
    "\n",
    "print(tetra)"
   ]
  },
  {
   "cell_type": "markdown",
   "metadata": {},
   "source": [
    "#### 3. Possibility: Using exrex \n",
    "To work with exrex, it has to be installed using pip install exrex"
   ]
  },
  {
   "cell_type": "code",
   "execution_count": 3,
   "metadata": {},
   "outputs": [
    {
     "name": "stdout",
     "output_type": "stream",
     "text": [
      "['AAA', 'AAC', 'AAG', 'AAT', 'ACA', 'ACC', 'ACG', 'ACT', 'AGA', 'AGC', 'AGG', 'AGT', 'ATA', 'ATC', 'ATG', 'ATT', 'CAA', 'CAC', 'CAG', 'CAT', 'CCA', 'CCC', 'CCG', 'CCT', 'CGA', 'CGC', 'CGG', 'CGT', 'CTA', 'CTC', 'CTG', 'CTT', 'GAA', 'GAC', 'GAG', 'GAT', 'GCA', 'GCC', 'GCG', 'GCT', 'GGA', 'GGC', 'GGG', 'GGT', 'GTA', 'GTC', 'GTG', 'GTT', 'TAA', 'TAC', 'TAG', 'TAT', 'TCA', 'TCC', 'TCG', 'TCT', 'TGA', 'TGC', 'TGG', 'TGT', 'TTA', 'TTC', 'TTG', 'TTT']\n"
     ]
    }
   ],
   "source": [
    "import exrex\n",
    "\n",
    "trimers_exrex=list(exrex.generate('(A|C|G|T)(A|C|G|T)(A|C|G|T)'))\n",
    "print(trimers_exrex)"
   ]
  },
  {
   "cell_type": "code",
   "execution_count": 4,
   "metadata": {},
   "outputs": [
    {
     "name": "stdout",
     "output_type": "stream",
     "text": [
      "['AAAA', 'AAAC', 'AAAG', 'AAAT', 'AACA', 'AACC', 'AACG', 'AACT', 'AAGA', 'AAGC', 'AAGG', 'AAGT', 'AATA', 'AATC', 'AATG', 'AATT', 'ACAA', 'ACAC', 'ACAG', 'ACAT', 'ACCA', 'ACCC', 'ACCG', 'ACCT', 'ACGA', 'ACGC', 'ACGG', 'ACGT', 'ACTA', 'ACTC', 'ACTG', 'ACTT', 'AGAA', 'AGAC', 'AGAG', 'AGAT', 'AGCA', 'AGCC', 'AGCG', 'AGCT', 'AGGA', 'AGGC', 'AGGG', 'AGGT', 'AGTA', 'AGTC', 'AGTG', 'AGTT', 'ATAA', 'ATAC', 'ATAG', 'ATAT', 'ATCA', 'ATCC', 'ATCG', 'ATCT', 'ATGA', 'ATGC', 'ATGG', 'ATGT', 'ATTA', 'ATTC', 'ATTG', 'ATTT', 'CAAA', 'CAAC', 'CAAG', 'CAAT', 'CACA', 'CACC', 'CACG', 'CACT', 'CAGA', 'CAGC', 'CAGG', 'CAGT', 'CATA', 'CATC', 'CATG', 'CATT', 'CCAA', 'CCAC', 'CCAG', 'CCAT', 'CCCA', 'CCCC', 'CCCG', 'CCCT', 'CCGA', 'CCGC', 'CCGG', 'CCGT', 'CCTA', 'CCTC', 'CCTG', 'CCTT', 'CGAA', 'CGAC', 'CGAG', 'CGAT', 'CGCA', 'CGCC', 'CGCG', 'CGCT', 'CGGA', 'CGGC', 'CGGG', 'CGGT', 'CGTA', 'CGTC', 'CGTG', 'CGTT', 'CTAA', 'CTAC', 'CTAG', 'CTAT', 'CTCA', 'CTCC', 'CTCG', 'CTCT', 'CTGA', 'CTGC', 'CTGG', 'CTGT', 'CTTA', 'CTTC', 'CTTG', 'CTTT', 'GAAA', 'GAAC', 'GAAG', 'GAAT', 'GACA', 'GACC', 'GACG', 'GACT', 'GAGA', 'GAGC', 'GAGG', 'GAGT', 'GATA', 'GATC', 'GATG', 'GATT', 'GCAA', 'GCAC', 'GCAG', 'GCAT', 'GCCA', 'GCCC', 'GCCG', 'GCCT', 'GCGA', 'GCGC', 'GCGG', 'GCGT', 'GCTA', 'GCTC', 'GCTG', 'GCTT', 'GGAA', 'GGAC', 'GGAG', 'GGAT', 'GGCA', 'GGCC', 'GGCG', 'GGCT', 'GGGA', 'GGGC', 'GGGG', 'GGGT', 'GGTA', 'GGTC', 'GGTG', 'GGTT', 'GTAA', 'GTAC', 'GTAG', 'GTAT', 'GTCA', 'GTCC', 'GTCG', 'GTCT', 'GTGA', 'GTGC', 'GTGG', 'GTGT', 'GTTA', 'GTTC', 'GTTG', 'GTTT', 'TAAA', 'TAAC', 'TAAG', 'TAAT', 'TACA', 'TACC', 'TACG', 'TACT', 'TAGA', 'TAGC', 'TAGG', 'TAGT', 'TATA', 'TATC', 'TATG', 'TATT', 'TCAA', 'TCAC', 'TCAG', 'TCAT', 'TCCA', 'TCCC', 'TCCG', 'TCCT', 'TCGA', 'TCGC', 'TCGG', 'TCGT', 'TCTA', 'TCTC', 'TCTG', 'TCTT', 'TGAA', 'TGAC', 'TGAG', 'TGAT', 'TGCA', 'TGCC', 'TGCG', 'TGCT', 'TGGA', 'TGGC', 'TGGG', 'TGGT', 'TGTA', 'TGTC', 'TGTG', 'TGTT', 'TTAA', 'TTAC', 'TTAG', 'TTAT', 'TTCA', 'TTCC', 'TTCG', 'TTCT', 'TTGA', 'TTGC', 'TTGG', 'TTGT', 'TTTA', 'TTTC', 'TTTG', 'TTTT']\n"
     ]
    }
   ],
   "source": [
    "import exrex\n",
    "\n",
    "tetramers_exrex=list(exrex.generate('(A|C|G|T)(A|C|G|T)(A|C|G|T)(A|C|G|T)'))\n",
    "print(tetramers_exrex)"
   ]
  },
  {
   "cell_type": "code",
   "execution_count": null,
   "metadata": {},
   "outputs": [],
   "source": []
  }
 ],
 "metadata": {
  "kernelspec": {
   "display_name": "Python 3",
   "language": "python",
   "name": "python3"
  },
  "language_info": {
   "codemirror_mode": {
    "name": "ipython",
    "version": 3
   },
   "file_extension": ".py",
   "mimetype": "text/x-python",
   "name": "python",
   "nbconvert_exporter": "python",
   "pygments_lexer": "ipython3",
   "version": "3.7.0"
  }
 },
 "nbformat": 4,
 "nbformat_minor": 2
}
